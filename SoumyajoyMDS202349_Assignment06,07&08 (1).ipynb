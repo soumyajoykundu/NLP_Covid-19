{
  "cells": [
    {
      "cell_type": "markdown",
      "source": [
        "## Natural Language Processing\n",
        "* Name: Soumyajoy Kundu\n",
        "* Roll Number: MDS202349"
      ],
      "metadata": {
        "id": "5eZRH1XXuWLE"
      },
      "id": "5eZRH1XXuWLE"
    },
    {
      "cell_type": "markdown",
      "source": [
        "### Assignment 06, 07 and 08\n",
        "#### Abstract Generation from Covid-19 articles\n",
        "\n",
        "* Use this partial data set (sourced from Kaggle) which contains research articles related to COVID-19. (same used in Assignment 01)\n",
        "* This corpus has around 56000+ files.\n",
        "* All the instructions are followed that were mentioned in Assignment 01 - 05.\n",
        "* Develop a contextualized language model employing a two-layer vanilla recurrent neural network\n",
        "(RNN), long short-term memory (LSTM), or gated recurrent unit (GRU).\n",
        "* The model should be\n",
        "implemented using any machine learning library of your choice, such as PyTorch, TensorFlow, or similar.\n",
        "\n",
        "**Note**:\n",
        "All fine prints from the earlier assignments apply here with respect to submission guidelines."
      ],
      "metadata": {
        "id": "S_phiW4ou2TD"
      },
      "id": "S_phiW4ou2TD"
    },
    {
      "cell_type": "markdown",
      "source": [
        "### **Assignment 06**\n",
        "Implement a small language model with a minimum of two hidden states consisting of a  forward and backward pass.\n",
        "* `Task 1`- Description of the architecture\n",
        "* `Task 2`- Python implementation\n"
      ],
      "metadata": {
        "id": "BlAV3bt6r-D1"
      },
      "id": "BlAV3bt6r-D1"
    },
    {
      "cell_type": "markdown",
      "source": [
        "### **Assignment 07**\n",
        "**Input**: Abstracts from the COVID-19 corpus. Experiment with a hundred abstracts before extending to\n",
        "the entire corpus. Plot the error graph during the training process.  \n",
        "* `Task 1`- Creation of the corpus\n",
        "* `Task 2`- Training and plotting"
      ],
      "metadata": {
        "id": "-tICVm15NgBT"
      },
      "id": "-tICVm15NgBT"
    },
    {
      "cell_type": "markdown",
      "source": [
        "\n",
        "\n",
        "\n",
        "### **Assignment 08**\n",
        "Utilize your trained model to generate abstracts. Concisely describe your approach and present the key\n",
        "results obtained.\n",
        "**Note on Potential Reasons for Sub-Optimal Results.**\n",
        "Compose a note comprising three distinct points that may contribute to sub-optimal results. Provide\n",
        "specific suggestions on how these factors could be mitigated or improved.\n",
        "* `Task 1`- Abstract generation\n",
        "* `Task 2`- Discussion of the results\n",
        "\n"
      ],
      "metadata": {
        "id": "pYicBOytNjRe"
      },
      "id": "pYicBOytNjRe"
    },
    {
      "cell_type": "markdown",
      "source": [
        "### Importing Libraries"
      ],
      "metadata": {
        "id": "qPKcsos_Nl-q"
      },
      "id": "qPKcsos_Nl-q"
    },
    {
      "cell_type": "code",
      "execution_count": null,
      "metadata": {
        "id": "1P30n6nTU7Lv"
      },
      "outputs": [],
      "source": [
        "import os  # For interacting with the operating system\n",
        "import re  # For regular expressions\n",
        "import time  # For measuring time\n",
        "import json  # For handling JSON files\n",
        "import zipfile  # For handling zip files\n",
        "import string  # For string manipulation\n",
        "import csv  # For handling CSV files\n",
        "import pickle  # For serializing and deserializing Python objects\n",
        "from collections import Counter  # For counting elements\n",
        "import numpy as np  # For numerical operations\n",
        "import matplotlib.pyplot as plt  # For plotting\n",
        "import math  # For mathematical functions\n",
        "from multiprocessing import Pool, Manager  # For parallel processing"
      ],
      "id": "1P30n6nTU7Lv"
    },
    {
      "cell_type": "markdown",
      "metadata": {
        "id": "2OrXaFD-zz4x"
      },
      "source": [
        "  * Used TPU v2-8\n",
        "  * Number of cores = 96"
      ],
      "id": "2OrXaFD-zz4x"
    },
    {
      "cell_type": "code",
      "execution_count": null,
      "metadata": {
        "colab": {
          "base_uri": "https://localhost:8080/"
        },
        "id": "pv2omN8m9-Jw",
        "outputId": "53fb8fce-b811-4fb9-83be-e090db868dfd"
      },
      "outputs": [
        {
          "output_type": "execute_result",
          "data": {
            "text/plain": [
              "96"
            ]
          },
          "metadata": {},
          "execution_count": 2
        }
      ],
      "source": [
        "tpu_num_cores = os.cpu_count()\n",
        "tpu_num_cores"
      ],
      "id": "pv2omN8m9-Jw"
    },
    {
      "cell_type": "code",
      "execution_count": null,
      "metadata": {
        "colab": {
          "base_uri": "https://localhost:8080/"
        },
        "id": "hzx7AOb3vs9o",
        "outputId": "1fbcdd0c-cb32-4780-ed12-1eed14151787"
      },
      "outputs": [
        {
          "output_type": "stream",
          "name": "stdout",
          "text": [
            "Files extracted to /content/pdf_json\n",
            "Time taken to unzip: 36.20004320144653 seconds\n"
          ]
        }
      ],
      "source": [
        "# Path to the zip file\n",
        "zip_file_path = '/content/pdf_json.zip'\n",
        "\n",
        "# Path where the file is extracted\n",
        "extract_dir = '/content/pdf_json'\n",
        "\n",
        "start = time.time()\n",
        "# Creating the directory if it doesn't exist\n",
        "os.makedirs(extract_dir, exist_ok=True)\n",
        "\n",
        "# Unzip the file\n",
        "with zipfile.ZipFile(zip_file_path, 'r') as zip_ref:\n",
        "    zip_ref.extractall(extract_dir)\n",
        "end = time.time()\n",
        "\n",
        "print(f\"Files extracted to {extract_dir}\")\n",
        "print(f\"Time taken to unzip: {end-start} seconds\")"
      ],
      "id": "hzx7AOb3vs9o"
    },
    {
      "cell_type": "code",
      "execution_count": null,
      "metadata": {
        "colab": {
          "base_uri": "https://localhost:8080/"
        },
        "id": "TvV4Eo7JR9BI",
        "outputId": "35b63108-f4fb-4a92-cdad-a2292d6a300d"
      },
      "outputs": [
        {
          "output_type": "stream",
          "name": "stdout",
          "text": [
            "Total JSON files extracted: 56528\n",
            "First 10 files: ['481f6c73c028491b1f17adb579cd764646d70c51.json', '6f2a507b31c76fb14fcdbe335f7ba2145c5fe162.json', '52d994a20f5f2747dedcd2c25763b3341f663326.json', '40d1dd0f992de32e06c688811ecc8445826cee20.json', '6502ec8499162886322b81f183705d278044d7d5.json', '5476d0364141435f4731a84c473d77cdf3812e93.json', '149b84f96e7d375225d860813eaa233c577a8aa1.json', '2764ffe80de591762fa622ca85c04d037f5af583.json', '529076e3b1ecf8b2e7ef44c9ccaf34812277ff6d.json', '286bea94529dca847214023bb3eabc8b2bc59760.json']\n"
          ]
        }
      ],
      "source": [
        "# List a few files to confirm extraction\n",
        "json_files = [f for f in os.listdir('/content/pdf_json/pdf_json') if f.endswith('.json')]\n",
        "\n",
        "print(f\"Total JSON files extracted: {len(json_files)}\")\n",
        "print(\"First 10 files:\", json_files[:10])"
      ],
      "id": "TvV4Eo7JR9BI"
    },
    {
      "cell_type": "markdown",
      "source": [
        "### **A7-T1**"
      ],
      "metadata": {
        "id": "6TPB1GA7u7ft"
      },
      "id": "6TPB1GA7u7ft"
    },
    {
      "cell_type": "markdown",
      "source": [
        "#### Use the COVID-19 corpus\n",
        "* Extract all the abstracts from the COVID-19 text files and use them as the corpus."
      ],
      "metadata": {
        "id": "Uxyo4fAFtfem"
      },
      "id": "Uxyo4fAFtfem"
    },
    {
      "cell_type": "markdown",
      "metadata": {
        "id": "--l8ITGVvNeO"
      },
      "source": [
        "\n",
        "* Extract the text content from the JSON-encoded data set and create a\n",
        "text corpus.\n",
        "* You may use any JSON library to extract the text"
      ],
      "id": "--l8ITGVvNeO"
    },
    {
      "cell_type": "code",
      "execution_count": null,
      "metadata": {
        "id": "v7sV_JUuSXQT"
      },
      "outputs": [],
      "source": [
        "def json2text(filename):\n",
        "    '''\n",
        "    Converts a JSON file to text.\n",
        "    '''\n",
        "    # Construct the full file path\n",
        "    filepath = os.path.join('/content/pdf_json/pdf_json', filename)  # Add the directory path\n",
        "\n",
        "    with open(filepath, encoding='latin-1') as file: # Use filepath instead of filename\n",
        "        if filename.endswith('.json'):\n",
        "            paper_content = json.load(file)\n",
        "    abstract = \"\"\n",
        "    title = \"\"\n",
        "\n",
        "    # get the paper_id\n",
        "    paper_id = paper_content['paper_id']\n",
        "\n",
        "    # get the title\n",
        "    if 'title' in paper_content:\n",
        "      title = paper_content['title']\n",
        "\n",
        "    # get the abstract\n",
        "    if 'abstract' in paper_content:\n",
        "      for abs in paper_content['abstract']:\n",
        "          abstract = abstract + abs['text']\n",
        "\n",
        "    # case-folding (all converted to lower case)\n",
        "    return abstract.lower()"
      ],
      "id": "v7sV_JUuSXQT"
    },
    {
      "cell_type": "code",
      "execution_count": null,
      "metadata": {
        "id": "hd_6F269aXze"
      },
      "outputs": [],
      "source": [
        "def save_text_to_file(text, filename, output_dir):\n",
        "    \"\"\"\n",
        "    Saves the given text to a file in the specified output directory.\n",
        "    \"\"\"\n",
        "    # Ensure the output directory exists\n",
        "    if not os.path.exists(output_dir):\n",
        "        os.makedirs(output_dir, exist_ok=True)\n",
        "\n",
        "    # Define the path to save the text file\n",
        "    text_filename = os.path.join(output_dir, f\"{filename}.txt\")\n",
        "\n",
        "    # Write the text to the file\n",
        "    with open(text_filename, 'w', encoding='utf-8') as file:\n",
        "        file.write(text)"
      ],
      "id": "hd_6F269aXze"
    },
    {
      "cell_type": "code",
      "execution_count": null,
      "metadata": {
        "id": "mqnjMtQET35J"
      },
      "outputs": [],
      "source": [
        "def process_json_file(json_file, output_dir):\n",
        "    \"\"\"\n",
        "    Processes a single JSON file: extracts text and saves it to a file.\n",
        "    \"\"\"\n",
        "    text = json2text(json_file)\n",
        "\n",
        "    # Extract the base filename (without extension) to use as the text file name\n",
        "    base_filename = os.path.splitext(os.path.basename(json_file))[0]\n",
        "\n",
        "    # Save the extracted text to a file\n",
        "    save_text_to_file(text, base_filename, output_dir)"
      ],
      "id": "mqnjMtQET35J"
    },
    {
      "cell_type": "code",
      "execution_count": null,
      "metadata": {
        "id": "Dyb_dEQ5aiW_"
      },
      "outputs": [],
      "source": [
        "def extract_texts(json_files, output_dir):\n",
        "    \"\"\"\n",
        "    Extracts text content from a list of JSON files in parallel and saves each text\n",
        "    into a separate file within the specified output directory.\n",
        "    \"\"\"\n",
        "    cpu_count = os.cpu_count()\n",
        "    pool = Pool(processes=cpu_count)\n",
        "\n",
        "    # Using starmap to pass both json_file and output_dir to process_json_file\n",
        "    pool.starmap(process_json_file, [(json_file, output_dir) for json_file in json_files])\n",
        "\n",
        "    pool.close()\n",
        "    pool.join()"
      ],
      "id": "Dyb_dEQ5aiW_"
    },
    {
      "cell_type": "code",
      "execution_count": null,
      "metadata": {
        "colab": {
          "base_uri": "https://localhost:8080/"
        },
        "id": "t541FljHd1W1",
        "outputId": "455cc7b0-149b-4520-a417-b66397aaf4b7"
      },
      "outputs": [
        {
          "output_type": "stream",
          "name": "stdout",
          "text": [
            "All json files are converted to text files containing abstracts...\n",
            "Time taken to extract texts: 5.538058280944824 seconds\n"
          ]
        }
      ],
      "source": [
        "# Path to create a folder where the json to text files will be kept.\n",
        "output_dir = '/content/abstracts'\n",
        "\n",
        "start = time.time()\n",
        "extract_texts(json_files, output_dir)\n",
        "end = time.time()\n",
        "\n",
        "print(\"All json files are converted to text files containing abstracts...\")\n",
        "print(f\"Time taken to extract texts: {end-start} seconds\")"
      ],
      "id": "t541FljHd1W1"
    },
    {
      "cell_type": "markdown",
      "metadata": {
        "id": "LVCaTskavYzi"
      },
      "source": [
        "#### Text Preprocessing\n",
        "* Develop your pre-processing steps and order of steps.\n",
        "* Some examples: case-folding, removal of numbers, etc.\n",
        "* As the heart of this task is Generating the text, so the `stopwords` are not removed from the preprocessed text."
      ],
      "id": "LVCaTskavYzi"
    },
    {
      "cell_type": "code",
      "execution_count": null,
      "metadata": {
        "id": "mZEVOedSKfe6"
      },
      "outputs": [],
      "source": [
        "# Importing Libraries for NLP Tasks\n",
        "from nltk.tokenize import word_tokenize\n",
        "import nltk"
      ],
      "id": "mZEVOedSKfe6"
    },
    {
      "cell_type": "code",
      "execution_count": null,
      "metadata": {
        "colab": {
          "base_uri": "https://localhost:8080/"
        },
        "id": "LyaAl1fZ0Ksq",
        "outputId": "c95320fb-74e6-4a43-aa5d-234604a97a3b"
      },
      "outputs": [
        {
          "output_type": "stream",
          "name": "stdout",
          "text": [
            "Collecting pyspellchecker\n",
            "  Downloading pyspellchecker-0.8.1-py3-none-any.whl.metadata (9.4 kB)\n",
            "Downloading pyspellchecker-0.8.1-py3-none-any.whl (6.8 MB)\n",
            "\u001b[?25l   \u001b[90m━━━━━━━━━━━━━━━━━━━━━━━━━━━━━━━━━━━━━━━━\u001b[0m \u001b[32m0.0/6.8 MB\u001b[0m \u001b[31m?\u001b[0m eta \u001b[36m-:--:--\u001b[0m\r\u001b[2K   \u001b[91m━\u001b[0m\u001b[90m╺\u001b[0m\u001b[90m━━━━━━━━━━━━━━━━━━━━━━━━━━━━━━━━━━━━━━\u001b[0m \u001b[32m0.2/6.8 MB\u001b[0m \u001b[31m4.9 MB/s\u001b[0m eta \u001b[36m0:00:02\u001b[0m\r\u001b[2K   \u001b[91m━━━━━━━\u001b[0m\u001b[91m╸\u001b[0m\u001b[90m━━━━━━━━━━━━━━━━━━━━━━━━━━━━━━━━\u001b[0m \u001b[32m1.3/6.8 MB\u001b[0m \u001b[31m19.6 MB/s\u001b[0m eta \u001b[36m0:00:01\u001b[0m\r\u001b[2K   \u001b[91m━━━━━━━━━━━━━━━━━━━━━━━━━━\u001b[0m\u001b[91m╸\u001b[0m\u001b[90m━━━━━━━━━━━━━\u001b[0m \u001b[32m4.5/6.8 MB\u001b[0m \u001b[31m43.5 MB/s\u001b[0m eta \u001b[36m0:00:01\u001b[0m\r\u001b[2K   \u001b[91m━━━━━━━━━━━━━━━━━━━━━━━━━━━━━━━━━━━━━━━\u001b[0m\u001b[91m╸\u001b[0m \u001b[32m6.8/6.8 MB\u001b[0m \u001b[31m59.3 MB/s\u001b[0m eta \u001b[36m0:00:01\u001b[0m\r\u001b[2K   \u001b[90m━━━━━━━━━━━━━━━━━━━━━━━━━━━━━━━━━━━━━━━━\u001b[0m \u001b[32m6.8/6.8 MB\u001b[0m \u001b[31m45.4 MB/s\u001b[0m eta \u001b[36m0:00:00\u001b[0m\n",
            "\u001b[?25hInstalling collected packages: pyspellchecker\n",
            "Successfully installed pyspellchecker-0.8.1\n"
          ]
        }
      ],
      "source": [
        "pip install pyspellchecker"
      ],
      "id": "LyaAl1fZ0Ksq"
    },
    {
      "cell_type": "code",
      "execution_count": null,
      "metadata": {
        "id": "_sZ6YMNK0TKC"
      },
      "outputs": [],
      "source": [
        "from spellchecker import SpellChecker"
      ],
      "id": "_sZ6YMNK0TKC"
    },
    {
      "cell_type": "code",
      "execution_count": null,
      "metadata": {
        "id": "_1zpLnJKVO1J"
      },
      "outputs": [],
      "source": [
        "def preprocess_file(filepath, output_dir):\n",
        "    \"\"\"\n",
        "    Preprocesses the text content of a single file by performing case-folding, removing numbers, and punctuation.\n",
        "    Saves the preprocessed text to a new file in the output directory.\n",
        "    Includes additional preprocessing steps based on user specifications.\n",
        "    \"\"\"\n",
        "    with open(filepath, 'r', encoding='utf-8') as file:\n",
        "        text = file.read()\n",
        "\n",
        "    # 1. Remove non-ascii characters\n",
        "    text = text.encode('ascii', errors='ignore').decode()\n",
        "\n",
        "    # 2. Remove [numbers] in this format\n",
        "    text = re.sub(r'\\[\\d+\\]', '', text)\n",
        "\n",
        "    # 3. Remove punctuation\n",
        "    text = re.sub(r'[^\\w\\s]', '', text)\n",
        "\n",
        "    # 3. Remove numbers\n",
        "    text = re.sub(r'\\d+', '', text)\n",
        "\n",
        "    # 4. Remove non-alphanumeric characters\n",
        "    text = re.sub(r'[^a-zA-Z0-9\\s]', '', text)\n",
        "\n",
        "    # 5. Case folding (convert to lowercase)\n",
        "    text = text.lower()\n",
        "\n",
        "    # 6. Remove single-letter words (e.g., 'a', 'b')\n",
        "    text = re.sub(r'\\b[a-z]\\b', '', text)\n",
        "\n",
        "    # 7. Remove any email id, URL, or number with more than 9 digits\n",
        "    text = re.sub(r'\\S+@\\S+', '', text)  # Remove email addresses\n",
        "    text = re.sub(r'http\\S+|www\\S+', '', text)  # Remove URLs\n",
        "    text = re.sub(r'\\b\\d{10,}\\b', '', text)  # Remove numbers greater than 9 digits\n",
        "\n",
        "    # 8. Convert \"$\" to \"dollars\"\n",
        "    text = text.replace('$', 'dollars')\n",
        "\n",
        "    # 9. Remove words longer than 20 characters\n",
        "    text = ' '.join([word for word in text.split() if len(word) <= 20])\n",
        "\n",
        "    # 10. Spell check and remove words with incorrect spelling\n",
        "    spell = SpellChecker()\n",
        "    words = text.split()\n",
        "    misspelled = spell.unknown(words)\n",
        "    text = ' '.join([word for word in words if word not in misspelled])\n",
        "\n",
        "    # 11. Remove extra spaces created by the removal of unwanted characters\n",
        "    text = re.sub(r'\\s+', ' ', text).strip()\n",
        "\n",
        "    # Save the preprocessed text to the output directory\n",
        "    filename = os.path.basename(filepath)\n",
        "    output_path = os.path.join(output_dir, filename)\n",
        "    with open(output_path, 'w', encoding='utf-8') as output_file:\n",
        "        output_file.write(text)"
      ],
      "id": "_1zpLnJKVO1J"
    },
    {
      "cell_type": "code",
      "execution_count": null,
      "metadata": {
        "id": "veLDw2nAcVQW"
      },
      "outputs": [],
      "source": [
        "def preprocess_corpus_multiprocessing(input_dir, output_dir):\n",
        "    \"\"\"\n",
        "    Preprocesses all text files in the specified directory using multiprocessing and saves them to the output directory.\n",
        "    \"\"\"\n",
        "    # Create the output directory if it doesn't exist\n",
        "    os.makedirs(output_dir, exist_ok=True)\n",
        "\n",
        "    # Get the list of all text files in the input directory\n",
        "    text_files = [os.path.join(input_dir, filename) for filename in os.listdir(input_dir) if filename.endswith('.txt')]\n",
        "\n",
        "    # Use multiprocessing to preprocess the files\n",
        "    cpu_count = os.cpu_count()\n",
        "    with Pool(processes=cpu_count) as pool:\n",
        "        pool.starmap(preprocess_file, [(filepath, output_dir) for filepath in text_files])"
      ],
      "id": "veLDw2nAcVQW"
    },
    {
      "cell_type": "code",
      "execution_count": null,
      "metadata": {
        "colab": {
          "base_uri": "https://localhost:8080/"
        },
        "id": "prbZXFtm1DdY",
        "outputId": "a818ac7c-c956-464c-db49-2a0981e84f65"
      },
      "outputs": [
        {
          "output_type": "stream",
          "name": "stdout",
          "text": [
            "Text Preprocessing Done!\n",
            "Time taken to preprocess: 171.23124599456787 seconds\n"
          ]
        }
      ],
      "source": [
        "# Path for converted text files\n",
        "input_directory = '/content/abstracts'\n",
        "\n",
        "# Path to create a folder for the Preprocessed text files\n",
        "output_directory = '/content/abstracts_all'\n",
        "\n",
        "start = time.time()\n",
        "preprocess_corpus_multiprocessing(input_directory, output_directory)\n",
        "end = time.time()\n",
        "\n",
        "print(\"Text Preprocessing Done!\")\n",
        "print(f\"Time taken to preprocess: {end-start} seconds\")"
      ],
      "id": "prbZXFtm1DdY"
    },
    {
      "cell_type": "code",
      "source": [
        "combined_text = \"\"\n",
        "for file in os.listdir('/content/abstracts_all_prep'):\n",
        "    if file.endswith('.txt'):\n",
        "        with open(os.path.join('/content/abstracts_all_prep', file), 'r') as f:\n",
        "            with open('abstracts_all.txt', 'a') as combined_file:\n",
        "                combined_file.write(f.read() + '\\n')"
      ],
      "metadata": {
        "id": "vk6S32enA4n_"
      },
      "execution_count": null,
      "outputs": [],
      "id": "vk6S32enA4n_"
    },
    {
      "cell_type": "code",
      "execution_count": null,
      "id": "015f575b",
      "metadata": {
        "execution": {
          "iopub.execute_input": "2023-04-05T19:29:12.185234Z",
          "iopub.status.busy": "2023-04-05T19:29:12.184853Z",
          "iopub.status.idle": "2023-04-05T19:29:12.197393Z",
          "shell.execute_reply": "2023-04-05T19:29:12.196186Z"
        },
        "papermill": {
          "duration": 0.02172,
          "end_time": "2023-04-05T19:29:12.199927",
          "exception": false,
          "start_time": "2023-04-05T19:29:12.178207",
          "status": "completed"
        },
        "tags": [],
        "colab": {
          "base_uri": "https://localhost:8080/"
        },
        "id": "015f575b",
        "outputId": "2fe4cd26-b356-4c03-ad3c-9beb27690a1f"
      },
      "outputs": [
        {
          "output_type": "execute_result",
          "data": {
            "text/plain": [
              "<torch._C.Generator at 0x7e7da6dd3f70>"
            ]
          },
          "metadata": {},
          "execution_count": 3
        }
      ],
      "source": [
        "from collections import Counter\n",
        "from torch.utils.data import Dataset, DataLoader, random_split\n",
        "from tqdm import tqdm\n",
        "\n",
        "import torch\n",
        "import torch.nn as nn\n",
        "import torch.optim as optim\n",
        "import numpy as np\n",
        "import pickle\n",
        "import matplotlib.pyplot as plt\n",
        "\n",
        "# Set seed for reproducibility\n",
        "torch.manual_seed(2024)"
      ]
    },
    {
      "cell_type": "code",
      "execution_count": null,
      "metadata": {
        "execution": {
          "iopub.execute_input": "2023-04-05T19:29:12.212122Z",
          "iopub.status.busy": "2023-04-05T19:29:12.211192Z",
          "iopub.status.idle": "2023-04-05T19:29:12.278823Z",
          "shell.execute_reply": "2023-04-05T19:29:12.277843Z"
        },
        "papermill": {
          "duration": 0.076212,
          "end_time": "2023-04-05T19:29:12.281257",
          "exception": false,
          "start_time": "2023-04-05T19:29:12.205045",
          "status": "completed"
        },
        "tags": [],
        "colab": {
          "base_uri": "https://localhost:8080/"
        },
        "outputId": "0b79b78f-8968-4429-8751-e3f3ffbfa239",
        "id": "4H5GRJT_T2jG"
      },
      "outputs": [
        {
          "output_type": "execute_result",
          "data": {
            "text/plain": [
              "device(type='cuda')"
            ]
          },
          "metadata": {},
          "execution_count": 4
        }
      ],
      "source": [
        "# setting device to gpu if available\n",
        "device = torch.device(\"cuda\" if torch.cuda.is_available() else \"cpu\")\n",
        "device"
      ],
      "id": "4H5GRJT_T2jG"
    },
    {
      "cell_type": "markdown",
      "id": "3d27261a",
      "metadata": {
        "id": "3d27261a"
      },
      "source": [
        "#### Creating a Text Dataset\n",
        "\n",
        "* Custom dataset class `TextDataset` which outputs sequences of a given length along with the next word to be predicted.\n",
        "* Sequences are generated by taking a window length of the sequence and that is then moved on the dataset to obtain the samples.\n",
        "* If an abstract is smaller than the sequence length, it is dropped. (not many are dropped when taking sequence length to be 40 or 50)\n",
        "* A window skip parameter is given which skips that many number of words to get the next sequence.\n",
        "\n",
        "This helps reduce the training data while not losing too much information."
      ]
    },
    {
      "cell_type": "code",
      "execution_count": null,
      "id": "bb8b7de6",
      "metadata": {
        "execution": {
          "iopub.execute_input": "2023-04-05T19:29:12.292679Z",
          "iopub.status.busy": "2023-04-05T19:29:12.291706Z",
          "iopub.status.idle": "2023-04-05T19:29:12.306503Z",
          "shell.execute_reply": "2023-04-05T19:29:12.305481Z"
        },
        "papermill": {
          "duration": 0.02287,
          "end_time": "2023-04-05T19:29:12.308858",
          "exception": false,
          "start_time": "2023-04-05T19:29:12.285988",
          "status": "completed"
        },
        "tags": [],
        "id": "bb8b7de6"
      },
      "outputs": [],
      "source": [
        "class TextDataset(Dataset):\n",
        "    '''\n",
        "    Custom Dataset class which outputs sequences of a given length along with the next word to be predicted.\n",
        "    '''\n",
        "    def __init__(self, file, seq_length, window_skip):\n",
        "        self.seq_len = seq_length\n",
        "        self.window_skip = window_skip\n",
        "        self.lines = self.load_lines(file)\n",
        "        self.vocab = self.uniq_words()\n",
        "\n",
        "        # Make dictionaries for word to idx and inverse\n",
        "        self.idx_to_word = {index: word for index, word in enumerate(self.vocab)}\n",
        "        self.word_to_idx = {word: index for index, word in enumerate(self.vocab)}\n",
        "\n",
        "        # Converts all the lines with words to lines with indices of the word\n",
        "        self.lines_indices = [[self.word_to_idx[x] for x in line] for line in filter(lambda x: len(x)>self.seq_len,self.lines)]\n",
        "\n",
        "        self.converted_idx = self.index_convert()\n",
        "        self.total_seq = len(self.converted_idx)\n",
        "\n",
        "    def load_lines(self, file):\n",
        "        '''\n",
        "        Loads the given file and adds <start> and <end> markers to the them.\n",
        "        '''\n",
        "        with open(file) as f:\n",
        "            lines = f.readlines()\n",
        "        lines = [[\"<s>\"]+line.split(\" \")+[\"</s>\"] for line in lines]\n",
        "        return lines\n",
        "\n",
        "    def uniq_words(self):\n",
        "        '''\n",
        "        Extracts the unique words from the corpus and sorts them to build a vocabulary and give them indices.\n",
        "        '''\n",
        "        counts = Counter()\n",
        "        list(map(lambda x: counts.update(x), self.lines))\n",
        "        return sorted(counts, key=counts.get, reverse=True)\n",
        "\n",
        "    def index_convert(self):\n",
        "        '''\n",
        "        Creates an auxillary array so that when asked for the i-th sequence, it returns the index in terms of the\n",
        "        index in the list of the abstracts. This way we don't have to coonstruct all the sequences and helps with\n",
        "        reducing the space usage.\n",
        "        '''\n",
        "        ls = []\n",
        "        for a,b in enumerate(self.lines_indices):\n",
        "            p = len(b)-self.seq_len-1\n",
        "            seqs = list(range(0, p+1, self.window_skip))\n",
        "            if p%self.window_skip != 0:\n",
        "                seqs.append(p)\n",
        "            ls.extend(zip([a]*len(seqs), seqs))\n",
        "        return ls\n",
        "\n",
        "    def vocab_size(self):\n",
        "        '''\n",
        "        Returns the size of the vocabulary\n",
        "        '''\n",
        "        return len(self.vocab)\n",
        "\n",
        "    def __len__(self):\n",
        "        '''\n",
        "        Required functions for dataset class\n",
        "        '''\n",
        "        return len(self.converted_idx)\n",
        "\n",
        "    def __getitem__(self, index):\n",
        "        '''\n",
        "        Returns the i-th index in terms of an input and expected output, both as torch tensors\n",
        "        '''\n",
        "        return (torch.tensor(self.lines_indices[self.converted_idx[index][0]][self.converted_idx[index][1]:(self.converted_idx[index][1]+self.seq_len)]),\n",
        "                torch.tensor(self.lines_indices[self.converted_idx[index][0]][(self.converted_idx[index][1]+1):(self.converted_idx[index][1]+self.seq_len+1)]))\n"
      ]
    },
    {
      "cell_type": "markdown",
      "id": "205cb47e",
      "metadata": {
        "id": "205cb47e"
      },
      "source": [
        "* The dataset will be constructed with 40 length sequences and sliding the window over 4 words everytime."
      ]
    },
    {
      "cell_type": "code",
      "execution_count": null,
      "id": "b346ba03",
      "metadata": {
        "execution": {
          "iopub.execute_input": "2023-04-05T19:29:12.319758Z",
          "iopub.status.busy": "2023-04-05T19:29:12.319449Z",
          "iopub.status.idle": "2023-04-05T19:29:16.984168Z",
          "shell.execute_reply": "2023-04-05T19:29:16.983110Z"
        },
        "papermill": {
          "duration": 4.673145,
          "end_time": "2023-04-05T19:29:16.986758",
          "exception": false,
          "start_time": "2023-04-05T19:29:12.313613",
          "status": "completed"
        },
        "tags": [],
        "id": "b346ba03"
      },
      "outputs": [],
      "source": [
        "text_dat = TextDataset(\"/content/abstracts_all_prep.txt\", 40, 4)"
      ]
    },
    {
      "cell_type": "code",
      "execution_count": null,
      "id": "eeca2507",
      "metadata": {
        "execution": {
          "iopub.execute_input": "2023-04-05T19:29:16.997180Z",
          "iopub.status.busy": "2023-04-05T19:29:16.996862Z",
          "iopub.status.idle": "2023-04-05T19:29:17.019717Z",
          "shell.execute_reply": "2023-04-05T19:29:17.018662Z"
        },
        "papermill": {
          "duration": 0.030556,
          "end_time": "2023-04-05T19:29:17.021938",
          "exception": false,
          "start_time": "2023-04-05T19:29:16.991382",
          "status": "completed"
        },
        "tags": [],
        "colab": {
          "base_uri": "https://localhost:8080/",
          "height": 70
        },
        "id": "eeca2507",
        "outputId": "2291a4f6-c6ae-4073-d238-926525a5a7f2"
      },
      "outputs": [
        {
          "output_type": "execute_result",
          "data": {
            "text/plain": [
              "'and when to release statement of emergency was also assessed using the model furthermore results suggest that the rapid isolation of infectious cases has large potential to effectively mitigate the spread of infection and restores social and economic activities novel'"
            ],
            "application/vnd.google.colaboratory.intrinsic+json": {
              "type": "string"
            }
          },
          "metadata": {},
          "execution_count": 10
        }
      ],
      "source": [
        "# An example of the 1341th sequence in the dataset\n",
        "\" \".join([text_dat.idx_to_word[x] for x in torch.Tensor.tolist(text_dat[1341][1])])"
      ]
    },
    {
      "cell_type": "markdown",
      "id": "7378d169",
      "metadata": {
        "id": "7378d169"
      },
      "source": [
        "### **A6-T1**"
      ]
    },
    {
      "cell_type": "markdown",
      "source": [
        "#### LSTM: Model Architecture\n",
        "\n",
        "#### **Initialization Method**\n",
        "\n",
        "**Method:** `__init__(self, dataset)`\n",
        "\n",
        "**Input:**  \n",
        "- `dataset`: Custom dataset object containing vocabulary size and sequence length.\n",
        "\n",
        "**Process:**  \n",
        "- **Embedding Layer:** Initializes word embeddings with a size of `(vocab_size, embedding_dims = 256)`.  \n",
        "- **LSTM Layer:**  \n",
        "  - Two-layer LSTM with 128 hidden units (`lstm_size = 128`).  \n",
        "  - Unidirectional processing (`bidirectional = False`).  \n",
        "- **Decoder Layer:** Fully connected layer (`fc`) maps LSTM outputs to vocabulary size (`vocab_size`).  \n",
        "\n",
        "**Components:**  \n",
        "- `self.embedding`: Maps input tokens to dense vectors.  \n",
        "- `self.LSTM`: Processes the embedded input sequences.  \n",
        "- `self.fc`: Projects LSTM output to vocabulary space.  \n",
        "\n",
        "---\n",
        "\n",
        "#### **Forward Method**\n",
        "\n",
        "**Method:** `forward(self, x, prev_state)`\n",
        "\n",
        "**Input:**  \n",
        "- `x`: Tensor of input word indices (shape: `(batch_size, seq_len)`).  \n",
        "- `prev_state`: Tuple containing the initial hidden and cell states of the LSTM (shape: `(num_layers, batch_size, lstm_size)`).\n",
        "\n",
        "**Process:**  \n",
        "- **Embedding:** Converts input word indices to dense embeddings.  \n",
        "- **LSTM Processing:** Passes embeddings through the LSTM layers.  \n",
        "- **Decoding:** Maps LSTM outputs to vocabulary logits through a fully connected layer.  \n",
        "\n",
        "**Output:**  \n",
        "- `out`: Tensor of vocabulary logits (shape: `(batch_size, seq_len, vocab_size)`).  \n",
        "- `new_state`: Updated hidden and cell states of the LSTM.\n",
        "\n",
        "---\n",
        "\n",
        "#### **State Initialization Method**\n",
        "\n",
        "**Method:** `init_state(self, batch_size)`\n",
        "\n",
        "**Input:**  \n",
        "- `batch_size`: Number of sequences processed in a batch.\n",
        "\n",
        "**Process:**  \n",
        "- Initializes hidden (`h_0`) and cell (`c_0`) states to zero tensors on the appropriate device (CPU or GPU).\n",
        "\n",
        "**Output:**  \n",
        "- Tuple containing initial hidden and cell states, both of shape `(num_layers, batch_size, lstm_size)`.\n",
        "\n"
      ],
      "metadata": {
        "id": "NzkJVIsG5kcf"
      },
      "id": "NzkJVIsG5kcf"
    },
    {
      "cell_type": "markdown",
      "source": [
        "### **A6-T2**"
      ],
      "metadata": {
        "id": "J1Tw0LorvRos"
      },
      "id": "J1Tw0LorvRos"
    },
    {
      "cell_type": "markdown",
      "source": [
        "#### Python Implementation"
      ],
      "metadata": {
        "id": "-R9z1JMnHKGX"
      },
      "id": "-R9z1JMnHKGX"
    },
    {
      "cell_type": "code",
      "source": [
        "import torch\n",
        "import torch.nn as nn\n",
        "\n",
        "class LSTM(nn.Module):\n",
        "    def __init__(self, dataset):\n",
        "        super(LSTM, self).__init__()\n",
        "        self.embedding_dims = 256\n",
        "        self.lstm_size = 128\n",
        "        self.num_layers = 2\n",
        "        self.device = torch.device(\"cuda\" if torch.cuda.is_available() else \"cpu\")\n",
        "        self.seq_len = dataset.seq_len\n",
        "\n",
        "        self.vocab_size = dataset.vocab_size()\n",
        "\n",
        "        # Embedding Layer\n",
        "        self.embedding = nn.Embedding(\n",
        "            num_embeddings=self.vocab_size,\n",
        "            embedding_dim=self.embedding_dims\n",
        "        )\n",
        "\n",
        "        # LSTM Layer (Unidirectional)\n",
        "        self.LSTM = nn.LSTM(\n",
        "            input_size=self.embedding_dims,\n",
        "            hidden_size=self.lstm_size,\n",
        "            num_layers=self.num_layers,\n",
        "            bidirectional=False\n",
        "        )\n",
        "\n",
        "        # Decoder Layer (Fully Connected)\n",
        "        self.fc = nn.Linear(self.lstm_size, self.vocab_size)\n",
        "\n",
        "    def forward(self, x, prev_state):\n",
        "        # Pass through Embedding Layer\n",
        "        embedded = self.embedding(x)\n",
        "\n",
        "        # Pass through LSTM Layer\n",
        "        out, new_state = self.LSTM(embedded, prev_state)\n",
        "\n",
        "        # Pass through Fully Connected Layer to get output vocabulary size\n",
        "        out = self.fc(out)\n",
        "\n",
        "        return out, new_state\n",
        "\n",
        "    def init_state(self, batch_size):\n",
        "        # Initialize h_0 and c_0 to zeros for prediction\n",
        "        return (\n",
        "            torch.zeros(self.num_layers, batch_size, self.lstm_size).to(self.device),\n",
        "            torch.zeros(self.num_layers, batch_size, self.lstm_size).to(self.device)\n",
        "        )"
      ],
      "metadata": {
        "id": "hseJegwZbASH"
      },
      "id": "hseJegwZbASH",
      "execution_count": null,
      "outputs": []
    },
    {
      "cell_type": "code",
      "source": [
        "# Create the model and store it to device.\n",
        "lstm = LSTM(test_dat).to(device)\n",
        "lstm"
      ],
      "metadata": {
        "colab": {
          "base_uri": "https://localhost:8080/"
        },
        "id": "yySMJvKZbBpC",
        "outputId": "e166355a-d540-4d81-ab0e-776a5090e17d"
      },
      "id": "yySMJvKZbBpC",
      "execution_count": null,
      "outputs": [
        {
          "output_type": "execute_result",
          "data": {
            "text/plain": [
              "LSTM(\n",
              "  (embedding): Embedding(39335, 256)\n",
              "  (LSTM): LSTM(256, 128, num_layers=2)\n",
              "  (fc): Linear(in_features=128, out_features=39335, bias=True)\n",
              ")"
            ]
          },
          "metadata": {},
          "execution_count": 12
        }
      ]
    },
    {
      "cell_type": "markdown",
      "source": [
        "### **A7-T2**"
      ],
      "metadata": {
        "id": "G1Is-VmPq6nt"
      },
      "id": "G1Is-VmPq6nt"
    },
    {
      "cell_type": "markdown",
      "source": [
        "#### Training"
      ],
      "metadata": {
        "id": "nglBMg_w5pXs"
      },
      "id": "nglBMg_w5pXs"
    },
    {
      "cell_type": "code",
      "execution_count": null,
      "id": "074fdf1b",
      "metadata": {
        "execution": {
          "iopub.execute_input": "2023-04-05T19:29:21.147089Z",
          "iopub.status.busy": "2023-04-05T19:29:21.146762Z",
          "iopub.status.idle": "2023-04-05T19:29:21.159795Z",
          "shell.execute_reply": "2023-04-05T19:29:21.158718Z"
        },
        "papermill": {
          "duration": 0.021349,
          "end_time": "2023-04-05T19:29:21.162295",
          "exception": false,
          "start_time": "2023-04-05T19:29:21.140946",
          "status": "completed"
        },
        "tags": [],
        "id": "074fdf1b"
      },
      "outputs": [],
      "source": [
        "import os\n",
        "\n",
        "def train(dataset, model, batch_size, epochs, simulate_batches=1):\n",
        "    '''\n",
        "    The training loop can simulate batches by splitting the batchs and accumulating losses.\n",
        "    Reduces GPU memory usage.\n",
        "    '''\n",
        "    batch_size = int(batch_size/simulate_batches)\n",
        "\n",
        "    #randomly splitting data to form a test and train dataloader\n",
        "    proportions = [.95, .05]\n",
        "    lengths = [int(p * len(test_dat)) for p in proportions]\n",
        "    lengths[-1] = len(test_dat) - sum(lengths[:-1])\n",
        "\n",
        "    train_set, test_set = random_split(dataset, lengths)\n",
        "    train_loader = DataLoader(train_set, batch_size = batch_size)\n",
        "    test_loader = DataLoader(test_set, batch_size = batch_size)\n",
        "\n",
        "    # using ADAM optimizer and CrossEntropyLoss for training\n",
        "    criterion = nn.CrossEntropyLoss()\n",
        "    optimizer = optim.Adam(model.parameters(), lr=0.001)\n",
        "    optimizer.zero_grad()\n",
        "\n",
        "    # to convert some calculations to fp16 to make the training faster\n",
        "    scaler = torch.cuda.amp.GradScaler()\n",
        "\n",
        "    # storing the losses for each batch and then for the epochs\n",
        "    losses = []\n",
        "    epoch_loss = []\n",
        "    validation_loss = []\n",
        "    validation_losses = []\n",
        "\n",
        "    for epoch in range(epochs):\n",
        "        # set model to training mode\n",
        "        model.train()\n",
        "        optimizer.zero_grad()\n",
        "        print({ 'epoch': epoch})\n",
        "\n",
        "        for batch, (x,y) in tqdm(enumerate(train_loader), total =len(train_loader)):\n",
        "            # load input and expected output to device\n",
        "            x, y = x.to(device), y.to(device)\n",
        "\n",
        "            #for fp16 calculations\n",
        "            with torch.cuda.amp.autocast(dtype=torch.float16):\n",
        "                # predict\n",
        "                y_pred, (a,b) = model(x, None)\n",
        "                #detach the hidden and cell states from gradient graph\n",
        "                a.detach()\n",
        "                b.detach()\n",
        "                #calculate loss\n",
        "                loss = criterion(y_pred.transpose(1,2), y)\n",
        "\n",
        "            # backprop step\n",
        "            scaler.scale(loss).backward()\n",
        "            # if batch%simulate_batches==0:\n",
        "            scaler.step(optimizer)\n",
        "            scaler.update()\n",
        "            optimizer.zero_grad()\n",
        "            # store the batch loss\n",
        "            epoch_loss.append(loss.item())\n",
        "        print('epoch : ', epoch, 'completed | ', 'loss :', loss.item())\n",
        "\n",
        "        # store the epoch losses\n",
        "        losses.append(epoch_loss)\n",
        "        epoch_loss = []\n",
        "\n",
        "        # put the mdoel on eval mode for testing\n",
        "        model.eval()\n",
        "\n",
        "        print(\"\\nCalculating validation loss for the epoch\")\n",
        "\n",
        "        # calculate the test losses\n",
        "        for (x,y) in tqdm(test_loader):\n",
        "            x, y = x.to(device), y.to(device)\n",
        "            y_pred, _ = model(x, None)\n",
        "            loss = criterion(y_pred.transpose(1,2), y)\n",
        "            validation_loss.append(loss.item())\n",
        "        validation_losses.append(validation_loss)\n",
        "        validation_loss = []\n",
        "\n",
        "        # saving each epoch model\n",
        "        os.makedirs(\"epoch_checkpoints\", exist_ok=True)\n",
        "        torch.save(model.state_dict(), \"epoch_checkpoints/epoch_\"+str(epoch)+\".pt\")\n",
        "\n",
        "    return (losses, validation_losses)"
      ]
    },
    {
      "cell_type": "code",
      "execution_count": null,
      "id": "37688c1b",
      "metadata": {
        "execution": {
          "iopub.execute_input": "2023-04-05T19:29:21.172389Z",
          "iopub.status.busy": "2023-04-05T19:29:21.172120Z",
          "iopub.status.idle": "2023-04-05T19:29:21.176759Z",
          "shell.execute_reply": "2023-04-05T19:29:21.175681Z"
        },
        "papermill": {
          "duration": 0.012329,
          "end_time": "2023-04-05T19:29:21.179150",
          "exception": false,
          "start_time": "2023-04-05T19:29:21.166821",
          "status": "completed"
        },
        "tags": [],
        "id": "37688c1b"
      },
      "outputs": [],
      "source": [
        "torch.cuda.empty_cache()"
      ]
    },
    {
      "cell_type": "markdown",
      "source": [
        "* The model `lstm` was applied to the text dataset `text_dat`\n",
        "* No of epochs trained, `epochs = 5`\n",
        "* Batch Size considered by training, `batch_size = 128`"
      ],
      "metadata": {
        "id": "1mufXEVOp5Vv"
      },
      "id": "1mufXEVOp5Vv"
    },
    {
      "cell_type": "code",
      "source": [
        "losses = train(text_dat, lstm, 128, 5)"
      ],
      "metadata": {
        "colab": {
          "base_uri": "https://localhost:8080/"
        },
        "id": "dE5wygrxbH57",
        "outputId": "be1afa52-5d95-426a-f491-946a102f0e81"
      },
      "id": "dE5wygrxbH57",
      "execution_count": null,
      "outputs": [
        {
          "metadata": {
            "tags": null
          },
          "name": "stderr",
          "output_type": "stream",
          "text": [
            "<ipython-input-13-5368c597afc7>:24: FutureWarning: `torch.cuda.amp.GradScaler(args...)` is deprecated. Please use `torch.amp.GradScaler('cuda', args...)` instead.\n",
            "  scaler = torch.cuda.amp.GradScaler()\n"
          ]
        },
        {
          "metadata": {
            "tags": null
          },
          "name": "stdout",
          "output_type": "stream",
          "text": [
            "{'epoch': 0}\n"
          ]
        },
        {
          "metadata": {
            "tags": null
          },
          "name": "stderr",
          "output_type": "stream",
          "text": [
            "  0%|          | 0/11024 [00:00<?, ?it/s]<ipython-input-13-5368c597afc7>:44: FutureWarning: `torch.cuda.amp.autocast(args...)` is deprecated. Please use `torch.amp.autocast('cuda', args...)` instead.\n",
            "  with torch.cuda.amp.autocast(dtype=torch.float16):\n",
            "100%|██████████| 11024/11024 [15:51<00:00, 11.59it/s]\n"
          ]
        },
        {
          "metadata": {
            "tags": null
          },
          "name": "stdout",
          "output_type": "stream",
          "text": [
            "epoch :  0 completed |  loss : 5.565595626831055\n",
            "\n",
            "Calculating validation loss for the epoch\n"
          ]
        },
        {
          "metadata": {
            "tags": null
          },
          "name": "stderr",
          "output_type": "stream",
          "text": [
            "100%|██████████| 581/581 [00:30<00:00, 19.23it/s]\n"
          ]
        },
        {
          "metadata": {
            "tags": null
          },
          "name": "stdout",
          "output_type": "stream",
          "text": [
            "{'epoch': 1}\n"
          ]
        },
        {
          "metadata": {
            "tags": null
          },
          "name": "stderr",
          "output_type": "stream",
          "text": [
            "100%|██████████| 11024/11024 [15:51<00:00, 11.58it/s]\n"
          ]
        },
        {
          "metadata": {
            "tags": null
          },
          "name": "stdout",
          "output_type": "stream",
          "text": [
            "epoch :  1 completed |  loss : 5.427110195159912\n",
            "\n",
            "Calculating validation loss for the epoch\n"
          ]
        },
        {
          "metadata": {
            "tags": null
          },
          "name": "stderr",
          "output_type": "stream",
          "text": [
            "100%|██████████| 581/581 [00:30<00:00, 19.18it/s]\n"
          ]
        },
        {
          "metadata": {
            "tags": null
          },
          "name": "stdout",
          "output_type": "stream",
          "text": [
            "{'epoch': 2}\n"
          ]
        },
        {
          "metadata": {
            "tags": null
          },
          "name": "stderr",
          "output_type": "stream",
          "text": [
            "100%|██████████| 11024/11024 [15:49<00:00, 11.61it/s]\n"
          ]
        },
        {
          "metadata": {
            "tags": null
          },
          "name": "stdout",
          "output_type": "stream",
          "text": [
            "epoch :  2 completed |  loss : 5.362697601318359\n",
            "\n",
            "Calculating validation loss for the epoch\n"
          ]
        },
        {
          "metadata": {
            "tags": null
          },
          "name": "stderr",
          "output_type": "stream",
          "text": [
            "100%|██████████| 581/581 [00:30<00:00, 19.13it/s]\n"
          ]
        },
        {
          "metadata": {
            "tags": null
          },
          "name": "stdout",
          "output_type": "stream",
          "text": [
            "{'epoch': 3}\n"
          ]
        },
        {
          "output_type": "stream",
          "name": "stderr",
          "text": [
            "100%|██████████| 11024/11024 [15:52<00:00, 11.57it/s]\n"
          ]
        },
        {
          "output_type": "stream",
          "name": "stdout",
          "text": [
            "epoch :  3 completed |  loss : 5.32464075088501\n",
            "\n",
            "Calculating validation loss for the epoch\n"
          ]
        },
        {
          "output_type": "stream",
          "name": "stderr",
          "text": [
            "100%|██████████| 581/581 [00:30<00:00, 19.14it/s]\n"
          ]
        },
        {
          "output_type": "stream",
          "name": "stdout",
          "text": [
            "{'epoch': 4}\n"
          ]
        },
        {
          "output_type": "stream",
          "name": "stderr",
          "text": [
            "100%|██████████| 11024/11024 [15:49<00:00, 11.61it/s]\n"
          ]
        },
        {
          "output_type": "stream",
          "name": "stdout",
          "text": [
            "epoch :  4 completed |  loss : 5.299858570098877\n",
            "\n",
            "Calculating validation loss for the epoch\n"
          ]
        },
        {
          "output_type": "stream",
          "name": "stderr",
          "text": [
            "100%|██████████| 581/581 [00:30<00:00, 19.12it/s]\n"
          ]
        }
      ]
    },
    {
      "cell_type": "markdown",
      "source": [
        "* Saving the trained model  `lstm` for future use.\n",
        "* Also the `losses` are saved in `.pkl` file"
      ],
      "metadata": {
        "id": "zc1E8YS4pQaI"
      },
      "id": "zc1E8YS4pQaI"
    },
    {
      "cell_type": "code",
      "source": [
        "# Saving the model\n",
        "torch.save(lstm.state_dict(), \"lstm_model.pt\")"
      ],
      "metadata": {
        "id": "3N0X04iobgOx"
      },
      "id": "3N0X04iobgOx",
      "execution_count": null,
      "outputs": []
    },
    {
      "cell_type": "code",
      "execution_count": null,
      "id": "9b5e80d4",
      "metadata": {
        "execution": {
          "iopub.execute_input": "2023-04-06T06:13:40.180315Z",
          "iopub.status.busy": "2023-04-06T06:13:40.179919Z",
          "iopub.status.idle": "2023-04-06T06:13:40.194169Z",
          "shell.execute_reply": "2023-04-06T06:13:40.193242Z"
        },
        "papermill": {
          "duration": 12.253215,
          "end_time": "2023-04-06T06:13:40.196303",
          "exception": false,
          "start_time": "2023-04-06T06:13:27.943088",
          "status": "completed"
        },
        "tags": [],
        "id": "9b5e80d4"
      },
      "outputs": [],
      "source": [
        "# Saving the losses\n",
        "with open(\"losses.pkl\",\"wb\") as f:\n",
        "    pickle.dump(losses,f)"
      ]
    },
    {
      "cell_type": "markdown",
      "source": [
        "#### Plotting the Error Graph"
      ],
      "metadata": {
        "id": "9wlDacl5vnn8"
      },
      "id": "9wlDacl5vnn8"
    },
    {
      "cell_type": "code",
      "execution_count": null,
      "id": "f4537a64",
      "metadata": {
        "id": "f4537a64"
      },
      "outputs": [],
      "source": [
        "with open(\"losses.pkl\", \"rb\") as f:\n",
        "    losses = pickle.load(f)"
      ]
    },
    {
      "cell_type": "code",
      "execution_count": null,
      "id": "a5b576c2",
      "metadata": {
        "colab": {
          "base_uri": "https://localhost:8080/",
          "height": 466
        },
        "id": "a5b576c2",
        "outputId": "0ae0696f-d04b-4ad9-ce80-14d1655d3925"
      },
      "outputs": [
        {
          "output_type": "execute_result",
          "data": {
            "text/plain": [
              "Text(0, 0.5, 'loss')"
            ]
          },
          "metadata": {},
          "execution_count": 22
        },
        {
          "output_type": "display_data",
          "data": {
            "text/plain": [
              "<Figure size 640x480 with 1 Axes>"
            ],
            "image/png": "[encoded data removed]"
          },
          "metadata": {}
        }
      ],
      "source": [
        "validation = losses[1]\n",
        "avg_val = [np.mean(x) for x in validation]\n",
        "training = losses[0]\n",
        "avg = [np.mean(x) for x in training]\n",
        "\n",
        "plt.plot(range(5), avg)\n",
        "plt.plot(range(5), avg_val)\n",
        "plt.legend([\"training loss\", \"test loss\"], loc=\"upper right\")\n",
        "\n",
        "plt.xlabel(\"Epochs\")\n",
        "plt.ylabel(\"loss\")"
      ]
    },
    {
      "cell_type": "markdown",
      "source": [
        "* The training and test loss decrease consistently with epochs, indicating that the model is learning effectively without signs of overfitting during the initial epochs.\n",
        "* The test loss is slightly lower than the training loss across epochs, suggesting a well-generalized model with no significant overfitting issues."
      ],
      "metadata": {
        "id": "qdcTQFL1Sa5m"
      },
      "id": "qdcTQFL1Sa5m"
    },
    {
      "cell_type": "markdown",
      "source": [
        "### **A8-T1**"
      ],
      "metadata": {
        "id": "KExjYzabv7jh"
      },
      "id": "KExjYzabv7jh"
    },
    {
      "cell_type": "code",
      "source": [
        "def predict(dataset, model, text, max_words=100):\n",
        "    '''\n",
        "    A function to Predict the next few words given a seed.\n",
        "    The words will be generate till the end token </s> is reached or the max_words is reached.\n",
        "    '''\n",
        "    model.to('cpu').eval()\n",
        "\n",
        "    words = text.split(' ')\n",
        "    # initializing hidden and cell states\n",
        "    state_h, state_c = model.init_state(len(words))\n",
        "\n",
        "    # Move hidden states to CPU\n",
        "    state_h = state_h.to('cpu')\n",
        "    state_c = state_c.to('cpu')\n",
        "\n",
        "    for i in range(0, max_words):\n",
        "        x = torch.tensor([[dataset.word_to_idx[w] for w in words[i:]]])\n",
        "        y_pred, (state_h, state_c) = model(x, (state_h, state_c))\n",
        "\n",
        "        last_word_logits = y_pred[0][-1]\n",
        "        p = torch.nn.functional.softmax(last_word_logits, dim=0).detach().numpy()\n",
        "        word_index = np.random.choice(len(last_word_logits), p=p)\n",
        "        words.append(dataset.idx_to_word[word_index])\n",
        "\n",
        "        if dataset.idx_to_word[word_index]==\"</s>\":\n",
        "            break\n",
        "\n",
        "    for i in range(15, len(words), 15):\n",
        "        words.insert(i, \"\\n\")\n",
        "\n",
        "    return \" \".join(words)"
      ],
      "metadata": {
        "id": "QEZKPqyMb21e"
      },
      "id": "QEZKPqyMb21e",
      "execution_count": null,
      "outputs": []
    },
    {
      "cell_type": "code",
      "source": [
        "lstm = LSTM(text_dat)\n",
        "lstm.load_state_dict(torch.load(\"lstm_model.pt\"))"
      ],
      "metadata": {
        "colab": {
          "base_uri": "https://localhost:8080/"
        },
        "id": "xxE3J5OVbXlp",
        "outputId": "f8a5a748-4ea8-400d-a6c9-f54bb629a527"
      },
      "id": "xxE3J5OVbXlp",
      "execution_count": null,
      "outputs": [
        {
          "output_type": "stream",
          "name": "stderr",
          "text": [
            "<ipython-input-25-41ae596dd9df>:2: FutureWarning: You are using `torch.load` with `weights_only=False` (the current default value), which uses the default pickle module implicitly. It is possible to construct malicious pickle data which will execute arbitrary code during unpickling (See https://github.com/pytorch/pytorch/blob/main/SECURITY.md#untrusted-models for more details). In a future release, the default value for `weights_only` will be flipped to `True`. This limits the functions that could be executed during unpickling. Arbitrary objects will no longer be allowed to be loaded via this mode unless they are explicitly allowlisted by the user via `torch.serialization.add_safe_globals`. We recommend you start setting `weights_only=True` for any use case where you don't have full control of the loaded file. Please open an issue on GitHub for any issues related to this experimental feature.\n",
            "  lstm.load_state_dict(torch.load(\"lstm_model_2.pt\"))\n"
          ]
        },
        {
          "output_type": "execute_result",
          "data": {
            "text/plain": [
              "<All keys matched successfully>"
            ]
          },
          "metadata": {},
          "execution_count": 25
        }
      ]
    },
    {
      "cell_type": "markdown",
      "source": [
        "#### Abstract Generation\n",
        "\n",
        "* The `predict` function allows any length of seed text (`text`), as it dynamically converts the input words to indices and initializes the hidden states accordingly, ensuring the model can process sequences of varying lengths.\n",
        "* Starting from the provided seed, the function generates text iteratively, predicting one word at a time until either the `<end>` token (`</s>`) is reached or the `max_words` limit is hit, regardless of the initial seed size."
      ],
      "metadata": {
        "id": "KgfkdBFOFh2l"
      },
      "id": "KgfkdBFOFh2l"
    },
    {
      "cell_type": "markdown",
      "source": [
        "* Generated Abstracts 1 - 100 words"
      ],
      "metadata": {
        "id": "lD2BBT3S_JDn"
      },
      "id": "lD2BBT3S_JDn"
    },
    {
      "cell_type": "code",
      "source": [
        "print(predict(text_dat, lstm, \"<s>\", max_words=100))"
      ],
      "metadata": {
        "colab": {
          "base_uri": "https://localhost:8080/"
        },
        "id": "tybXmZqI-41k",
        "outputId": "e045a606-ff1b-426b-bd29-51717eec6075"
      },
      "execution_count": null,
      "outputs": [
        {
          "output_type": "stream",
          "name": "stdout",
          "text": [
            "<s> is systematic manner the goals and dispersal by combining localized in mice the rights \n",
            " not detected and swat gates are accepted multichannel verifying protocols demographic and vegetables introduction \n",
            " of different randomly assigned to surroundings the therapeutic modalities and testing on this work \n",
            " explores perceptions of cases of obligate intracellular concentrations surpassing the advantage of review regarding \n",
            " surgical vaccination are spherical inclusions in clinical symptoms and middle school of broiler flocks \n",
            " with the relative to start of people start of the decrease risk of the \n",
            " interaction networks to the protein mir however the interactions are also been established collective investment and\n"
          ]
        }
      ],
      "id": "tybXmZqI-41k"
    },
    {
      "cell_type": "code",
      "source": [
        "print(predict(test_dat, lstm, \"<s> there are number of newly described and emerging disease\", max_words=100))"
      ],
      "metadata": {
        "colab": {
          "base_uri": "https://localhost:8080/"
        },
        "id": "NCPsc-ccn7_a",
        "outputId": "b4ec0633-1a12-4a1f-d48e-aa9ac9dec9c7"
      },
      "execution_count": null,
      "outputs": [
        {
          "output_type": "stream",
          "name": "stdout",
          "text": [
            "<s> there is one number of newly described and emerging disease viral conclusions of using \n",
            " using the epidemic in this work combines perspective of proteins that kind of significant \n",
            " differences with multiple perspectives we characterize social and conjecture in the netherlands in this \n",
            " pandemic and inotropic links detected as interventions will have been disproportionate impact of mucin \n",
            " infected with those who are scarce in an outbreak and proteins can be carefully \n",
            " interpreted as an important approach is unclear conclusions while host cells were cited global \n",
            " influenza ha of pilgrims were detected in fecal was isolated but also present an \n",
            " acceptable for new insight to the treatment of today in official twin\n"
          ]
        }
      ],
      "id": "NCPsc-ccn7_a"
    },
    {
      "cell_type": "markdown",
      "source": [
        "* Generated Abstracts 2 - 150 words"
      ],
      "metadata": {
        "id": "TcUoaCtjAOPc"
      },
      "id": "TcUoaCtjAOPc"
    },
    {
      "cell_type": "code",
      "source": [
        "print(predict(test_dat, lstm, \"<s>\", max_words=150))"
      ],
      "metadata": {
        "colab": {
          "base_uri": "https://localhost:8080/"
        },
        "outputId": "f40e9dd8-0d78-475b-8dc1-4b7b059636b7",
        "id": "OVUjjFekAIuf"
      },
      "execution_count": null,
      "outputs": [
        {
          "output_type": "stream",
          "name": "stdout",
          "text": [
            "<s> drug against neutralizing antibody response to the plaques such sectors the amount of people \n",
            " who receives equal in controlled directly increasing the sample matching the individual is characterized \n",
            " using extensive health research trends in diverse countries the various human animal welfare waters \n",
            " who were associated with the participants participated in addition certain reports coupled to travel \n",
            " ban from to to evaluate how populations for preterm birth during the model was \n",
            " slightly higher in the inflammation in groups were converted to human tracheal et structures \n",
            " and completely seen in clinical phases specifically compared to hosting the countries and residual \n",
            " severity implies the outbreak investigation has hardly the results patients were measured by the \n",
            " functions against and accessibility simplicity and infection or to have been made being admitted \n",
            " with circadian regimes distal units while maintaining topic in the rod in hospitalized children \n",
            " presenting in testing of genetic scaffold which was added and\n"
          ]
        }
      ],
      "id": "OVUjjFekAIuf"
    },
    {
      "cell_type": "code",
      "source": [
        "print(predict(test_dat, lstm, \"<s> studies have suggested that excessive activation of the host immune system\", max_words=150))"
      ],
      "metadata": {
        "colab": {
          "base_uri": "https://localhost:8080/"
        },
        "id": "eHxh1hb4ouMx",
        "outputId": "443c2c42-4f30-4a62-f82a-bf586e2a180a"
      },
      "execution_count": null,
      "outputs": [
        {
          "output_type": "stream",
          "name": "stdout",
          "text": [
            "<s> studies have suggested that excessive activation of the host immune system are associated to \n",
            " relieve the service to higher scores for several messages in this paper we show \n",
            " that targeting have impacted by the age arrival after heating clinical syndrome and in \n",
            " the is exposed rats submitted to overcome it is gaining thoughtful patient infection overall \n",
            " respiratory syndrome which is proposed approach public health and to more and extraction the \n",
            " receiver operating under the community database with normal calves were stratified using the pandemic \n",
            " these transgenic chloroplasts in the mechanism underlying structural data model for people are the \n",
            " activity of and fatalities as at on pharmacy exploration we also reported and skills \n",
            " have been pandemic yet to include screening the advantages and governance challenges enabled the \n",
            " host immune responses of in less compromised decrease and psychological factors similar approach is \n",
            " given the group and ki by leveraging optimal cutoff of the pandemic and quarantine periodicity to assess scientific and decreased replication\n"
          ]
        }
      ],
      "id": "eHxh1hb4ouMx"
    },
    {
      "cell_type": "markdown",
      "source": [
        "* Generated Abstracts 3 - 200 words"
      ],
      "metadata": {
        "id": "11U4GUNw_MHC"
      },
      "id": "11U4GUNw_MHC"
    },
    {
      "cell_type": "code",
      "source": [
        "print(predict(text_dat, lstm, \"<s>\", max_words=200))"
      ],
      "metadata": {
        "id": "hDGJf1Vsin7G",
        "outputId": "fbb297bc-11d9-493f-b9ff-aad1b058a80d",
        "colab": {
          "base_uri": "https://localhost:8080/"
        }
      },
      "id": "hDGJf1Vsin7G",
      "execution_count": null,
      "outputs": [
        {
          "output_type": "stream",
          "name": "stdout",
          "text": [
            "<s> although human cleavage of communication demand for data to address mortality rate of the \n",
            " beginning of to detect increased mortality level for bacteria the evolutionary effects indeed dentists \n",
            " who become cleavage of china at weeks followup time while affecting where treatment modalities \n",
            " like the threat via up to simulate and an has highlighted important when the \n",
            " age range low routine new member states use distribution we found that any one \n",
            " of the strains were evaluated in the most influential themes in family results were \n",
            " collected from case of the pandemic regular agriculture bats annotated form to interventions to \n",
            " enzymes including the pituitary agent in lung injury caused motivation for exposure to be \n",
            " better understanding of liver function and screening we use of epidemics can be possible \n",
            " cyclosporine separate nation using we describe both the normal images be found that this \n",
            " report the glycoproteins from nasal spray drying and comparison from to occur how many \n",
            " areas of on replacements alone first established virus and acute respiratory symptoms chest and \n",
            " adults developed an epidemiological analysis study aimed at median duration through chest images termed \n",
            " has negative conversion to counter any cell and through their clinical materials and chronic emergent and specific antiviral\n"
          ]
        }
      ]
    },
    {
      "cell_type": "code",
      "source": [
        "print(predict(test_dat, lstm, \"<s> pandemic\", max_words=200))"
      ],
      "metadata": {
        "colab": {
          "base_uri": "https://localhost:8080/"
        },
        "id": "mr1fNb3lpEl6",
        "outputId": "acc902c0-c256-40b2-a4f6-1fb2a7fd65a6"
      },
      "execution_count": null,
      "outputs": [
        {
          "output_type": "stream",
          "name": "stdout",
          "text": [
            "<s> pandemic is simple transcription factor the thematic footprint of and the groups six dogs \n",
            " were and the course was produced by the infectious disease and according to avoid \n",
            " adaptation of ace is deceased the site of diagnostic performance of policies have two \n",
            " clinical status associated with acknowledgement the vasoconstriction immune responses toward converting enzyme for symptoms \n",
            " and discuss the presence of distinct from for pa the general public implementation of \n",
            " and later however large academic hospital at low titers per day during the heart \n",
            " disease and protein vector control group for all other countries to derive the main \n",
            " clusters in the following experimental results are accepting the ability in persistent reproductive number \n",
            " of synergies the protein contains motif containing new hosts and were reported in participants \n",
            " active against and hospital to the donors are relevant in complete spectrum of survey \n",
            " in this stage so that fidelity properties of the assessment of at nasal clinical \n",
            " similarity with inhaled by on swift damage remains versus sample collection of infections and \n",
            " analysis of disaster rate and carbohydrates and that the development of the archive bases \n",
            " of cells after the main cause health computer vision detailing an international research equipment indoors or lower when incorporated\n"
          ]
        }
      ],
      "id": "mr1fNb3lpEl6"
    },
    {
      "cell_type": "markdown",
      "source": [
        "* Generated Abstract 4 - 500 words"
      ],
      "metadata": {
        "id": "15xykoD9_8K-"
      },
      "id": "15xykoD9_8K-"
    },
    {
      "cell_type": "code",
      "source": [
        "print(predict(test_dat, lstm, \"<s>\", max_words=500))"
      ],
      "metadata": {
        "colab": {
          "base_uri": "https://localhost:8080/"
        },
        "outputId": "57f84cc3-a882-44aa-f197-0d4dda2c1487",
        "id": "f17jbWZkAfGD"
      },
      "execution_count": null,
      "outputs": [
        {
          "output_type": "stream",
          "name": "stdout",
          "text": [
            "<s> to seeking to other our method by which is followed by reviewers that cells \n",
            " and concentration fibrinogen and then ps preparations and their loved ones this is usually \n",
            " come on consumer stores necessary considerable antiviral strategies to assess the patients serum values \n",
            " as and the years who knew we describe the matrix using the organs in \n",
            " the infection in neutralizing from influenza based approaches and to study was performed and \n",
            " assembly of reported percent of consensus sequence representations of calves used some four in \n",
            " providing information per thousand were intravenously with decreasing bias assessment of enteric virus uses \n",
            " media and controlling the genes are observed for analysis of cell surrogate for the \n",
            " interaction networks of where remained unclear since their personal protective role of health and \n",
            " microbial genotypes displayed more than two tissues and goats of infections journal journal individuals \n",
            " to be achieved in et results were excluded included articles from local health emergency \n",
            " propositions for each cohort when comparing acute infections it has recently to avoid contagion \n",
            " thousands of of an in children living cells use of tests we propose limited \n",
            " by deletion of in surgical abilities for furthermore histological report recurrent infections physical and \n",
            " observations and to study was evaluated results here we investigated the limited of selective \n",
            " chaperones in mice via we analyze large academic medical images we examine its utility \n",
            " of serious infection control however or between waveforms wind speed of the predicted adjuvants \n",
            " infection of clinical trials yet fit objectively in the perception in adolescents aged months \n",
            " which led to male predominance of english language deterministic model if they require sharing \n",
            " information to accomplish compared to improve the expansion from the level but we call \n",
            " blend and were included in one of the divergence in this category of the \n",
            " availability reviews and networks in the could not correct thus providing an urgent need \n",
            " to difficulty of dry cough respiratory virus treatment targeting changes in the pandemic emotional \n",
            " symptoms of virus transport components is urgent need for the role of or leading \n",
            " cause of attrition nationwide and environmental molecular docking based on chains and the rate \n",
            " but are two are guaranteed the quality between both methods this herein this is \n",
            " desirable parameter from data individual faecal but it happen to understanding of the morbidity \n",
            " although the first recognize that to reduce the potential species culminates in at having \n",
            " healthcare heuristics to screen structure and south financial cycle of the contribution studying the \n",
            " their by flow by variety of patients managed anonymously full circular email distributed under \n",
            " active against environmental friendly jamming schemes for the patients with to dispatch management care \n",
            " workers in pregnancies infections to the different scenarios that the transportation structures were treated \n",
            " in the feasibility of the transport problem generates responsible for conclusion the use of \n",
            " prematurity the trained as major role of the development incidence of the inclusion regulations in including the agents four complete resolution of the types cell mediated by the molecular mimicry this paper employs small intestine and safer management\n"
          ]
        }
      ],
      "id": "f17jbWZkAfGD"
    },
    {
      "cell_type": "markdown",
      "source": [
        "* Generated Abstract 5 - 1000 words"
      ],
      "metadata": {
        "id": "SFoXIFpWAXps"
      },
      "id": "SFoXIFpWAXps"
    },
    {
      "cell_type": "code",
      "source": [
        "print(predict(text_dat, lstm, \"<s>\", max_words=1000))"
      ],
      "metadata": {
        "colab": {
          "base_uri": "https://localhost:8080/"
        },
        "id": "rFrUau4Biiyj",
        "outputId": "ad8a2b61-f1cc-479a-eaac-a9ff58659dc1"
      },
      "id": "rFrUau4Biiyj",
      "execution_count": null,
      "outputs": [
        {
          "output_type": "stream",
          "name": "stdout",
          "text": [
            "<s> tuberculosis diseases that people several tissues from the intensive care and we use of \n",
            " different between common vestibular and who were treated with blood utilities for reasoning herein \n",
            " we demonstrate that the spread in the arterial ace remains unclear long care or \n",
            " the morbidity statistical analyses indicated microorganisms in cells that fever polio and simultaneously shared \n",
            " via antigen interestingly we review article is arrives as which are also provides key \n",
            " stakeholders of diseases caring for any cell fields within the other but lead to \n",
            " this case series of from the antiviral strategy improved public health conditions in defining \n",
            " the droplet nucleotide variations in this pandemic in improving the data submitted analyze the \n",
            " right anterior ischemia applicability of price location robust viral replication early outbreak to react \n",
            " to the cumulative but it impaired replication is the biological origin of setup to \n",
            " establish both comparisons in the investigation it provides an inhibitor of different clusters of \n",
            " therapy results conforming to experience with an environmental factors to reach public health ramifications \n",
            " of water forces and the convection toxic metabolites such as the recent development of \n",
            " is policies for neutralizing antibodies against mortality patients admitted for unambiguous controls for the \n",
            " peak compared with the pandemic it purpose of ace from the solution to march \n",
            " and severity and signaling in the serial electrocardiograms and of diversity of average by \n",
            " our understanding that accelerates both large numbers that although simple test were also lead \n",
            " to with more infectious diseases understanding of codes tailored to length of infected with \n",
            " they are carried out of masks for surveillance purposes as effective health insurance and \n",
            " length of position for and died of an acute respiratory syndrome infection control and \n",
            " developing data bank stably express their criteria zoom enrolment transmitting further clinical isolates and \n",
            " adenovirus even within major organ permeability requiring mechanical ventilation therapy initiation codon with the \n",
            " human respiratory virus pandemics as normalized saliva of tasks accurate dynamics namely constraints to \n",
            " use of the imperative to these class molecules it would be safe poultry farming \n",
            " practices of various aspects of massive losses these we collected among different factors for \n",
            " the significant of infection in order to institutional review the children present with the \n",
            " potential from to modulate host cells for was added to tables proportion in biopsies \n",
            " increased morbidity and mainly localized ventilation and manage have similar infection might be tested \n",
            " by mixed models the recent review discusses mathematical modeling results suggest predictions using in \n",
            " the development of heterogeneous and with case series people diagnosed education data and cells \n",
            " in randomized controlled table an array technology platforms nonetheless we identified in monophyletic fig \n",
            " and numerical simulations indicate that fulfill the highest size resulting in this corresponds to \n",
            " our approach should be their duties in patients as judged from these two classic \n",
            " estimate robots for other viral spike protein levels in patients with mild upper limb \n",
            " band and by the percolation reviews and development of pulmonary disease affecting resources in \n",
            " case prince and antivirals or magnetic authorship review is the probe flow rate of \n",
            " infected nodes conclusions the relative nucleotide high risk of the lower hemoglobin in the \n",
            " notion that have been important implications of rats are to mine spoil were elevated \n",
            " insulin within the response to penetrate to measure of the future challenges to in \n",
            " the newly emerging infectious disease is positive recruitment abilities to understand the basics level \n",
            " trauma clinics attitudes has become action showing targets led the light retina virus genomes \n",
            " from or less attention this role for the dependent molecules and virions providing timely \n",
            " outcome and fusion to have an analysis and systematic studies on but we found \n",
            " in particular promising functional recovery rate was exist in the full text combs reed \n",
            " army and predominated in oral in the virus changeover to give pairwise alignment the \n",
            " reasons studies done at this virus spread of antibodies into clinical severity of face \n",
            " much better than those indicated segmental spontaneous circulation die casein kinase cognate peptide and \n",
            " examined the diagnosis of sufferers the samples were patient care settings for the uncertainty \n",
            " surrounding tissue specimens collected from the national association between the neurological disorder and the \n",
            " corresponding direction of infection control of the goal of two loci measured by public \n",
            " approved and camels and presented to detect not directly boiled clients to participate in \n",
            " the netherlands and present tool development of secreting cells were mortality rate of was \n",
            " used to detect antibodies of salts and what data were verified by zaire this \n",
            " supported by two main relationships between harmless disease human results in bacteria that the \n",
            " setting of vaccine design and porcine growth tests passage of cardiovascular disease in several \n",
            " days to think the ocular pathogen that could be distinguished all but no relevant \n",
            " reagents separately to relate by affecting conducting research and of tryptophan kinase the time \n",
            " to extend to the delay or an operational question new fraud sales radius of \n",
            " the war at the gaps accounted for or scattered in computed tomography scans in \n",
            " different parameters that this microorganism platelet counts improve metal with new data fig and \n",
            " were identified yet little is taken into mice additive effect of the fraction sizes \n",
            " and knowledge on where caused by assay in the impact of the history study temporal differences were linked to modulate the number of life at primary outcome data to identify represent an opportunity to pathogens predispose physical activity and fragments and our study is not sufficient an expanding patient was faster than researchers using in creating an important question in stool periodic cap\n",
            " </s>\n"
          ]
        }
      ]
    },
    {
      "cell_type": "markdown",
      "source": [
        "### **A8-T2**"
      ],
      "metadata": {
        "id": "9UTlT9E-AoRi"
      },
      "id": "9UTlT9E-AoRi"
    },
    {
      "cell_type": "markdown",
      "source": [
        "#### Discussion of the Results\n",
        "\n",
        "* The five abstracts generated by the LSTM model exhibit structural coherence but lack semantic meaning.\n",
        "\n",
        "##### **Observations:**\n",
        "1. **Structural Patterns:**  \n",
        "   The abstracts follow sentence-like structures with appropriate grammar and word order, but they lack logical coherence or meaningful connections between phrases.\n",
        "   \n",
        "2. **Repetitive and Incoherent Content:**  \n",
        "   Several generated abstracts contain repetitive patterns or incoherent combinations of scientific terms, indicating difficulty in maintaining context across long sequences.\n",
        "\n",
        "3. **Vocabulary Usage:**  \n",
        "   The abstracts include domain-specific terms (e.g., \"antibodies,\" \"infections,\" \"neutralizing\"), suggesting the model has learned some patterns from the COVID-19 dataset but struggles with semantic associations.\n",
        "\n",
        "##### **Potential Reasons for Sub-Optimal Results:**\n",
        "1. The dataset might contain noisy or inconsistent abstracts, leading to poor model learning.\n",
        "2. The current LSTM model may be too simple to capture the complexity of abstract generation.\n",
        "3. The model might be underfitted due to insufficient training epochs (`epochs = 5`, which is really less) or sequence length.  \n",
        "\n",
        "##### **Improvements:**\n",
        "1. Better results could have been generated by using a cleaner dataset, a char-level LSTM instead of word level, more epochs, reducing vocab size if it's word level, and not skipping possible training sequences as it has been implemented in the dataloader.\n",
        "2. One more possible improvement could be storing the state for the whole abstract instead of just keeping it for the sequences while training.\n",
        "3. A larger sequence length could also help to generate longer abstracts of better context.\n",
        "4. Increasing the number of training epochs could further fine-tune the model, potentially improving its performance in generating abstracts."
      ],
      "metadata": {
        "id": "tJLNMAdNBMfo"
      },
      "id": "tJLNMAdNBMfo"
    }
  ],
  "metadata": {
    "kernelspec": {
      "display_name": "Python 3",
      "name": "python3"
    },
    "language_info": {
      "codemirror_mode": {
        "name": "ipython",
        "version": 3
      },
      "file_extension": ".py",
      "mimetype": "text/x-python",
      "name": "python",
      "nbconvert_exporter": "python",
      "pygments_lexer": "ipython3",
      "version": "3.10.7"
    },
    "papermill": {
      "default_parameters": {},
      "duration": null,
      "end_time": null,
      "environment_variables": {},
      "exception": null,
      "input_path": "__notebook__.ipynb",
      "output_path": "__notebook__.ipynb",
      "parameters": {},
      "start_time": "2023-04-05T19:28:59.302004",
      "version": "2.4.0"
    },
    "colab": {
      "provenance": [],
      "gpuType": "T4"
    },
    "accelerator": "GPU"
  },
  "nbformat": 4,
  "nbformat_minor": 5
}