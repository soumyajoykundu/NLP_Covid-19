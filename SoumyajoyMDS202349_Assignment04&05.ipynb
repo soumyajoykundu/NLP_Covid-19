{
  "cells": [
    {
      "cell_type": "markdown",
      "source": [
        "## Natural Language Processing\n",
        "* Name: Soumyajoy Kundu\n",
        "* Roll Number: MDS202349"
      ],
      "metadata": {
        "id": "5eZRH1XXuWLE"
      }
    },
    {
      "cell_type": "markdown",
      "source": [
        "### Assignment 04 and 05\n",
        "\n",
        "* Use this partial data set (sourced from Kaggle) which contains research articles related to COVID-19. (same used in Assignment 01)\n",
        "* This corpus has around 56000+ files.\n",
        "* All the instructions are followed that were mentioned in Assignment 01 - 03.\n",
        "* Build a skipgram model to generate the word embedding.\n",
        "\n",
        "**Note**:\n",
        "All fine prints from the earlier assignments apply here with respect to submission guidelines."
      ],
      "metadata": {
        "id": "S_phiW4ou2TD"
      }
    },
    {
      "cell_type": "markdown",
      "metadata": {
        "id": "ZsND50cou671"
      },
      "source": [
        "### Importing Libraries"
      ]
    },
    {
      "cell_type": "code",
      "execution_count": null,
      "metadata": {
        "id": "1P30n6nTU7Lv"
      },
      "outputs": [],
      "source": [
        "import os  # For interacting with the operating system\n",
        "import re  # For regular expressions\n",
        "import time  # For measuring time\n",
        "import json  # For handling JSON files\n",
        "import zipfile  # For handling zip files\n",
        "import string  # For string manipulation\n",
        "import csv  # For handling CSV files\n",
        "import pickle  # For serializing and deserializing Python objects\n",
        "from collections import Counter  # For counting elements\n",
        "import numpy as np  # For numerical operations\n",
        "import matplotlib.pyplot as plt  # For plotting\n",
        "import math  # For mathematical functions\n",
        "from multiprocessing import Pool, Manager  # For parallel processing"
      ]
    },
    {
      "cell_type": "markdown",
      "metadata": {
        "id": "2OrXaFD-zz4x"
      },
      "source": [
        "  * Used TPU v2-8\n",
        "  * Number of cores = 96"
      ]
    },
    {
      "cell_type": "code",
      "execution_count": null,
      "metadata": {
        "colab": {
          "base_uri": "https://localhost:8080/"
        },
        "id": "pv2omN8m9-Jw",
        "outputId": "001dfd6e-1cd3-4782-e834-c4e871e0ca07"
      },
      "outputs": [
        {
          "data": {
            "text/plain": [
              "96"
            ]
          },
          "execution_count": 2,
          "metadata": {},
          "output_type": "execute_result"
        }
      ],
      "source": [
        "tpu_num_cores = os.cpu_count()\n",
        "tpu_num_cores"
      ]
    },
    {
      "cell_type": "code",
      "execution_count": null,
      "metadata": {
        "colab": {
          "base_uri": "https://localhost:8080/"
        },
        "id": "hzx7AOb3vs9o",
        "outputId": "7c440098-a3d5-4d2b-c2d6-f32f57737630"
      },
      "outputs": [
        {
          "name": "stdout",
          "output_type": "stream",
          "text": [
            "Files extracted to /content/pdf_json\n",
            "Time taken to unzip: 37.71924877166748 seconds\n"
          ]
        }
      ],
      "source": [
        "# Path to the zip file\n",
        "zip_file_path = '/content/pdf_json.zip'\n",
        "\n",
        "# Path where the file is extracted\n",
        "extract_dir = '/content/pdf_json'\n",
        "\n",
        "start = time.time()\n",
        "# Creating the directory if it doesn't exist\n",
        "os.makedirs(extract_dir, exist_ok=True)\n",
        "\n",
        "# Unzip the file\n",
        "with zipfile.ZipFile(zip_file_path, 'r') as zip_ref:\n",
        "    zip_ref.extractall(extract_dir)\n",
        "end = time.time()\n",
        "\n",
        "print(f\"Files extracted to {extract_dir}\")\n",
        "print(f\"Time taken to unzip: {end-start} seconds\")"
      ]
    },
    {
      "cell_type": "code",
      "execution_count": null,
      "metadata": {
        "colab": {
          "base_uri": "https://localhost:8080/"
        },
        "id": "TvV4Eo7JR9BI",
        "outputId": "86edde37-c4b1-4e09-9917-21c7628dbb6d"
      },
      "outputs": [
        {
          "name": "stdout",
          "output_type": "stream",
          "text": [
            "Total JSON files extracted: 56528\n",
            "First 10 files: ['202383e9c79c6dac9c6de7622681a2b2fdd699b6.json', '49861eebbc323ac1fda5c90a3f25b755300b7413.json', '3ba5a8bec872feebb62f6a1f384690ba1cd63a8b.json', '1450545d1da21d84ec1c78140e28137d11053826.json', '5cc7d19d8c064e59978daa0699ca18d5b139b0db.json', '1f7f3e09db31be0bc73e921a1034ec9de0d52ebe.json', '1fa4e53e298871ed4d6c9ec3f471cc5d49d20acf.json', '564cc276d915ea2b85434de9ea2427c41ca76bdd.json', '5a2aa19ff63d93bcc65037b428235a1f6a337b19.json', '2c29ff48c88939e57b87ce996f8769b37b386122.json']\n"
          ]
        }
      ],
      "source": [
        "# List a few files to confirm extraction\n",
        "json_files = [f for f in os.listdir('/content/pdf_json/pdf_json') if f.endswith('.json')]\n",
        "\n",
        "print(f\"Total JSON files extracted: {len(json_files)}\")\n",
        "print(\"First 10 files:\", json_files[:10])"
      ]
    },
    {
      "cell_type": "markdown",
      "source": [
        "## Assignment 04"
      ],
      "metadata": {
        "id": "NnbwxR1x5YYu"
      }
    },
    {
      "cell_type": "markdown",
      "source": [
        "### **Task 1**: Use the COVID-19 corpus\n",
        "* Extract all the abstracts from the COVID-19 text files and use them as the corpus.\n",
        "* Ensure that you create\n",
        "a vocabulary of around 10,000 words."
      ],
      "metadata": {
        "id": "Uxyo4fAFtfem"
      }
    },
    {
      "cell_type": "markdown",
      "metadata": {
        "id": "--l8ITGVvNeO"
      },
      "source": [
        "\n",
        "* Extract the text content from the JSON-encoded data set and create a\n",
        "text corpus.\n",
        "* You may use any JSON library to extract the text"
      ]
    },
    {
      "cell_type": "code",
      "execution_count": null,
      "metadata": {
        "id": "v7sV_JUuSXQT"
      },
      "outputs": [],
      "source": [
        "def json2text(filename):\n",
        "    '''\n",
        "    Converts a JSON file to text.\n",
        "    '''\n",
        "    # Construct the full file path\n",
        "    filepath = os.path.join('/content/pdf_json/pdf_json', filename)  # Add the directory path\n",
        "\n",
        "    with open(filepath, encoding='latin-1') as file: # Use filepath instead of filename\n",
        "        if filename.endswith('.json'):\n",
        "            paper_content = json.load(file)\n",
        "    abstract = \"\"\n",
        "    title = \"\"\n",
        "\n",
        "    # get the paper_id\n",
        "    paper_id = paper_content['paper_id']\n",
        "\n",
        "    # get the title\n",
        "    if 'title' in paper_content:\n",
        "      title = paper_content['title']\n",
        "\n",
        "    # get the abstract\n",
        "    if 'abstract' in paper_content:\n",
        "      for abs in paper_content['abstract']:\n",
        "          abstract = abstract + abs['text']\n",
        "\n",
        "    # case-folding (all converted to lower case)\n",
        "    return abstract.lower()"
      ]
    },
    {
      "cell_type": "code",
      "execution_count": null,
      "metadata": {
        "id": "hd_6F269aXze"
      },
      "outputs": [],
      "source": [
        "def save_text_to_file(text, filename, output_dir):\n",
        "    \"\"\"\n",
        "    Saves the given text to a file in the specified output directory.\n",
        "    \"\"\"\n",
        "    # Ensure the output directory exists\n",
        "    if not os.path.exists(output_dir):\n",
        "        os.makedirs(output_dir, exist_ok=True)\n",
        "\n",
        "    # Define the path to save the text file\n",
        "    text_filename = os.path.join(output_dir, f\"{filename}.txt\")\n",
        "\n",
        "    # Write the text to the file\n",
        "    with open(text_filename, 'w', encoding='utf-8') as file:\n",
        "        file.write(text)"
      ]
    },
    {
      "cell_type": "code",
      "execution_count": null,
      "metadata": {
        "id": "mqnjMtQET35J"
      },
      "outputs": [],
      "source": [
        "def process_json_file(json_file, output_dir):\n",
        "    \"\"\"\n",
        "    Processes a single JSON file: extracts text and saves it to a file.\n",
        "    \"\"\"\n",
        "    text = json2text(json_file)\n",
        "\n",
        "    # Extract the base filename (without extension) to use as the text file name\n",
        "    base_filename = os.path.splitext(os.path.basename(json_file))[0]\n",
        "\n",
        "    # Save the extracted text to a file\n",
        "    save_text_to_file(text, base_filename, output_dir)"
      ]
    },
    {
      "cell_type": "code",
      "execution_count": null,
      "metadata": {
        "id": "Dyb_dEQ5aiW_"
      },
      "outputs": [],
      "source": [
        "def extract_texts(json_files, output_dir):\n",
        "    \"\"\"\n",
        "    Extracts text content from a list of JSON files in parallel and saves each text\n",
        "    into a separate file within the specified output directory.\n",
        "    \"\"\"\n",
        "    cpu_count = os.cpu_count()\n",
        "    pool = Pool(processes=cpu_count)\n",
        "\n",
        "    # Using starmap to pass both json_file and output_dir to process_json_file\n",
        "    pool.starmap(process_json_file, [(json_file, output_dir) for json_file in json_files])\n",
        "\n",
        "    pool.close()\n",
        "    pool.join()"
      ]
    },
    {
      "cell_type": "code",
      "execution_count": null,
      "metadata": {
        "colab": {
          "base_uri": "https://localhost:8080/"
        },
        "id": "t541FljHd1W1",
        "outputId": "36a46f38-5d77-4ad1-a2c2-decc7594bf3e"
      },
      "outputs": [
        {
          "name": "stdout",
          "output_type": "stream",
          "text": [
            "All json files are converted to text files containing abstracts...\n",
            "Time taken to extract texts: 1.6233949661254883 seconds\n"
          ]
        }
      ],
      "source": [
        "# Path to create a folder where the json to text files will be kept.\n",
        "output_dir = '/content/abstracts'\n",
        "\n",
        "start = time.time()\n",
        "extract_texts(json_files, output_dir)\n",
        "end = time.time()\n",
        "\n",
        "print(\"All json files are converted to text files containing abstracts...\")\n",
        "print(f\"Time taken to extract texts: {end-start} seconds\")"
      ]
    },
    {
      "cell_type": "markdown",
      "metadata": {
        "id": "LVCaTskavYzi"
      },
      "source": [
        "#### Text Preprocessing\n",
        "* Develop your pre-processing steps and order of steps.\n",
        "* Some examples: case-folding, removal of numbers, etc."
      ]
    },
    {
      "cell_type": "code",
      "execution_count": null,
      "metadata": {
        "id": "mZEVOedSKfe6"
      },
      "outputs": [],
      "source": [
        "# Importing Libraries for NLP Tasks\n",
        "from nltk.corpus import stopwords\n",
        "from nltk.tokenize import word_tokenize\n",
        "import nltk"
      ]
    },
    {
      "cell_type": "code",
      "execution_count": null,
      "metadata": {
        "colab": {
          "base_uri": "https://localhost:8080/"
        },
        "id": "euIVL20UK03u",
        "outputId": "0ec91f0f-6aa8-4778-80e3-f8e37785cf53"
      },
      "outputs": [
        {
          "name": "stderr",
          "output_type": "stream",
          "text": [
            "[nltk_data] Downloading package stopwords to /root/nltk_data...\n",
            "[nltk_data]   Unzipping corpora/stopwords.zip.\n",
            "[nltk_data] Downloading package punkt to /root/nltk_data...\n",
            "[nltk_data]   Unzipping tokenizers/punkt.zip.\n"
          ]
        },
        {
          "data": {
            "text/plain": [
              "True"
            ]
          },
          "execution_count": 15,
          "metadata": {},
          "output_type": "execute_result"
        }
      ],
      "source": [
        "# Downloading Packages\n",
        "nltk.download('stopwords')\n",
        "nltk.download('punkt')"
      ]
    },
    {
      "cell_type": "code",
      "execution_count": null,
      "metadata": {
        "colab": {
          "base_uri": "https://localhost:8080/"
        },
        "id": "LyaAl1fZ0Ksq",
        "outputId": "eb797d0b-df9e-4b11-a5a6-5ccf74f4bbf8"
      },
      "outputs": [
        {
          "name": "stdout",
          "output_type": "stream",
          "text": [
            "Collecting pyspellchecker\n",
            "  Downloading pyspellchecker-0.8.1-py3-none-any.whl.metadata (9.4 kB)\n",
            "Downloading pyspellchecker-0.8.1-py3-none-any.whl (6.8 MB)\n",
            "\u001b[2K   \u001b[90m━━━━━━━━━━━━━━━━━━━━━━━━━━━━━━━━━━━━━━━━\u001b[0m \u001b[32m6.8/6.8 MB\u001b[0m \u001b[31m43.5 MB/s\u001b[0m eta \u001b[36m0:00:00\u001b[0m\n",
            "\u001b[?25hInstalling collected packages: pyspellchecker\n",
            "Successfully installed pyspellchecker-0.8.1\n"
          ]
        }
      ],
      "source": [
        "pip install pyspellchecker"
      ]
    },
    {
      "cell_type": "code",
      "execution_count": null,
      "metadata": {
        "id": "_sZ6YMNK0TKC"
      },
      "outputs": [],
      "source": [
        "from spellchecker import SpellChecker"
      ]
    },
    {
      "cell_type": "code",
      "execution_count": null,
      "metadata": {
        "id": "uSpYBDGeKktH"
      },
      "outputs": [],
      "source": [
        "import re\n",
        "import os\n",
        "from nltk.corpus import stopwords\n",
        "\n",
        "def remove_stopwords(text, lang_stopwords):\n",
        "    \"\"\"\n",
        "    Removes stopwords from the given text.\n",
        "    :param text: The input text.\n",
        "    :param lang_stopwords: Set of stopwords to be removed.\n",
        "    :return: The text with stopwords removed.\n",
        "    \"\"\"\n",
        "    words = text.split()\n",
        "    return ' '.join([word for word in words if word not in lang_stopwords])"
      ]
    },
    {
      "cell_type": "code",
      "execution_count": null,
      "metadata": {
        "id": "_1zpLnJKVO1J"
      },
      "outputs": [],
      "source": [
        "def preprocess_file(filepath, output_dir):\n",
        "    \"\"\"\n",
        "    Preprocesses the text content of a single file by performing case-folding, removing numbers, and punctuation.\n",
        "    Saves the preprocessed text to a new file in the output directory.\n",
        "    Includes additional preprocessing steps based on user specifications.\n",
        "    \"\"\"\n",
        "    with open(filepath, 'r', encoding='utf-8') as file:\n",
        "        text = file.read()\n",
        "\n",
        "    # 1. Remove non-ascii characters\n",
        "    text = text.encode('ascii', errors='ignore').decode()\n",
        "\n",
        "    # 2. Remove [numbers] in this format\n",
        "    text = re.sub(r'\\[\\d+\\]', '', text)\n",
        "\n",
        "    # 3. Remove punctuation\n",
        "    text = re.sub(r'[^\\w\\s]', '', text)\n",
        "\n",
        "    # 3. Remove numbers\n",
        "    text = re.sub(r'\\d+', '', text)\n",
        "\n",
        "    # 4. Remove non-alphanumeric characters\n",
        "    text = re.sub(r'[^a-zA-Z0-9\\s]', '', text)\n",
        "\n",
        "    # 5. Case folding (convert to lowercase)\n",
        "    text = text.lower()\n",
        "\n",
        "    # 6. Remove single-letter words (e.g., 'a', 'b')\n",
        "    text = re.sub(r'\\b[a-z]\\b', '', text)\n",
        "\n",
        "    # 7. Remove stopwords (English, German, French)\n",
        "    stop_words = set(stopwords.words('english')) | set(stopwords.words('german')) | set(stopwords.words('french'))\n",
        "    text = remove_stopwords(text, stop_words)\n",
        "\n",
        "    # 8. Remove any email id, URL, or number with more than 9 digits\n",
        "    text = re.sub(r'\\S+@\\S+', '', text)  # Remove email addresses\n",
        "    text = re.sub(r'http\\S+|www\\S+', '', text)  # Remove URLs\n",
        "    text = re.sub(r'\\b\\d{10,}\\b', '', text)  # Remove numbers greater than 9 digits\n",
        "\n",
        "    # 9. Convert \"$\" to \"dollars\"\n",
        "    text = text.replace('$', 'dollars')\n",
        "\n",
        "    # 10. Remove words longer than 20 characters\n",
        "    text = ' '.join([word for word in text.split() if len(word) <= 20])\n",
        "\n",
        "    # 11. Spell check and remove words with incorrect spelling\n",
        "    spell = SpellChecker()\n",
        "    words = text.split()\n",
        "    misspelled = spell.unknown(words)\n",
        "    text = ' '.join([word for word in words if word not in misspelled])\n",
        "\n",
        "    # 12. Remove extra spaces created by the removal of unwanted characters\n",
        "    text = re.sub(r'\\s+', ' ', text).strip()\n",
        "\n",
        "    # Save the preprocessed text to the output directory\n",
        "    filename = os.path.basename(filepath)\n",
        "    output_path = os.path.join(output_dir, filename)\n",
        "    with open(output_path, 'w', encoding='utf-8') as output_file:\n",
        "        output_file.write(text)\n"
      ]
    },
    {
      "cell_type": "code",
      "execution_count": null,
      "metadata": {
        "id": "veLDw2nAcVQW"
      },
      "outputs": [],
      "source": [
        "def preprocess_corpus_multiprocessing(input_dir, output_dir):\n",
        "    \"\"\"\n",
        "    Preprocesses all text files in the specified directory using multiprocessing and saves them to the output directory.\n",
        "    \"\"\"\n",
        "    # Create the output directory if it doesn't exist\n",
        "    os.makedirs(output_dir, exist_ok=True)\n",
        "\n",
        "    # Get the list of all text files in the input directory\n",
        "    text_files = [os.path.join(input_dir, filename) for filename in os.listdir(input_dir) if filename.endswith('.txt')]\n",
        "\n",
        "    # Use multiprocessing to preprocess the files\n",
        "    cpu_count = os.cpu_count()\n",
        "    with Pool(processes=cpu_count) as pool:\n",
        "        pool.starmap(preprocess_file, [(filepath, output_dir) for filepath in text_files])"
      ]
    },
    {
      "cell_type": "code",
      "execution_count": null,
      "metadata": {
        "colab": {
          "base_uri": "https://localhost:8080/"
        },
        "id": "prbZXFtm1DdY",
        "outputId": "ea4c7aac-c499-487f-f40b-4ed43172bb6d"
      },
      "outputs": [
        {
          "name": "stdout",
          "output_type": "stream",
          "text": [
            "Text Preprocessing Done!\n",
            "Time taken to preprocess: 177.95962810516357 seconds\n"
          ]
        }
      ],
      "source": [
        "# Path for converted text files\n",
        "input_directory = '/content/abstracts'\n",
        "\n",
        "# Path to create a folder for the Preprocessed text files\n",
        "output_directory = '/content/abstracts_preprocessed'\n",
        "\n",
        "start = time.time()\n",
        "preprocess_corpus_multiprocessing(input_directory, output_directory)\n",
        "end = time.time()\n",
        "\n",
        "print(\"Text Preprocessing Done!\")\n",
        "print(f\"Time taken to preprocess: {end-start} seconds\")"
      ]
    },
    {
      "cell_type": "markdown",
      "source": [
        "Saving the preprocessed corpus of abstracts in a .txt file."
      ],
      "metadata": {
        "id": "OgRaRT-3q6UE"
      }
    },
    {
      "cell_type": "code",
      "execution_count": null,
      "metadata": {
        "id": "3XAfQ8YAwzr6"
      },
      "outputs": [],
      "source": [
        "combined_text = \"\"\n",
        "for file in os.listdir('/content/abstracts_preprocessed'):\n",
        "    if file.endswith('.txt'):\n",
        "        with open(os.path.join('/content/abstracts_preprocessed', file), 'r') as f:\n",
        "            with open('combined_abstracts_prep.txt', 'a') as combined_file:\n",
        "                combined_file.write(f.read() + '\\n')"
      ]
    },
    {
      "cell_type": "markdown",
      "metadata": {
        "id": "As3b8ivW03kC"
      },
      "source": [
        "#### Tokenizing the corpus"
      ]
    },
    {
      "cell_type": "code",
      "execution_count": null,
      "metadata": {
        "id": "vPbxycsoHj66"
      },
      "outputs": [],
      "source": [
        "def process_file(file_path):\n",
        "    \"\"\"\n",
        "    Process a single file to extract tokens and vocabulary.\n",
        "    Returns a tuple of tokens and unique vocabulary from the file.\n",
        "    \"\"\"\n",
        "    with open(file_path, 'r', encoding='utf-8') as file:\n",
        "        text = file.read()\n",
        "    tokens = word_tokenize(text)\n",
        "    vocabulary = set(tokens)\n",
        "    return tokens, vocabulary\n",
        "\n",
        "def process_corpus_tokens(input_dir):\n",
        "    \"\"\"\n",
        "    Processes all files in the input directory to extract tokens and vocabulary\n",
        "    in parallel using multiple processes. Returns the complete list of tokens\n",
        "    and unique vocabulary.\n",
        "    \"\"\"\n",
        "    # Get the list of all preprocessed text files in the input directory\n",
        "    text_files = [os.path.join(input_dir, filename) for filename in os.listdir(input_dir) if filename.endswith('.txt')]\n",
        "\n",
        "    # Use a pool of workers to process files in parallel\n",
        "    cpu_count = os.cpu_count()\n",
        "    with Pool(cpu_count) as pool:\n",
        "        results = pool.map(process_file, text_files)\n",
        "\n",
        "    # Aggregate tokens and vocabulary from all files\n",
        "    all_tokens = []\n",
        "    vocabulary = set()\n",
        "    for tokens, vocab in results:\n",
        "        all_tokens.extend(tokens)\n",
        "        vocabulary.update(vocab)\n",
        "\n",
        "    # Return all tokens and vocabulary\n",
        "    return all_tokens, list(vocabulary)"
      ]
    },
    {
      "cell_type": "code",
      "execution_count": null,
      "metadata": {
        "colab": {
          "base_uri": "https://localhost:8080/"
        },
        "id": "6iBRS34VK-5K",
        "outputId": "c70322df-7136-4937-a217-fd190d66b42f"
      },
      "outputs": [
        {
          "name": "stdout",
          "output_type": "stream",
          "text": [
            "Tokenization Done!\n",
            "Time taken to preprocess: 3.6375629901885986 seconds\n"
          ]
        }
      ],
      "source": [
        "input_dir = '/content/abstracts_preprocessed'\n",
        "\n",
        "start = time.time()\n",
        "tokens, vocab = process_corpus_tokens(input_dir)\n",
        "end = time.time()\n",
        "\n",
        "print(\"Tokenization Done!\")\n",
        "print(f\"Time taken to preprocess: {end-start} seconds\")"
      ]
    },
    {
      "cell_type": "code",
      "execution_count": null,
      "metadata": {
        "colab": {
          "base_uri": "https://localhost:8080/"
        },
        "id": "EuvSguFULlUZ",
        "outputId": "b3cd9d63-539c-4e86-ff80-65b2414b306e"
      },
      "outputs": [
        {
          "data": {
            "text/plain": [
              "(33669, 4308442)"
            ]
          },
          "execution_count": 26,
          "metadata": {},
          "output_type": "execute_result"
        }
      ],
      "source": [
        "len(vocab), len(tokens)"
      ]
    },
    {
      "cell_type": "markdown",
      "metadata": {
        "id": "AaqF9n841YWw"
      },
      "source": [
        "* Storing the $\\texttt{tokens}$ and $\\texttt{vocab}$ in pickle ($\\texttt{.pkl}$) file for future use."
      ]
    },
    {
      "cell_type": "code",
      "execution_count": null,
      "metadata": {
        "id": "IWB2SzEJW16Q"
      },
      "outputs": [],
      "source": [
        "with open('tokens_abs.pkl', 'wb') as f:\n",
        "        pickle.dump(tokens, f)\n",
        "\n",
        "with open('vocab_abs.pkl', 'wb') as f:\n",
        "        pickle.dump(vocab, f)"
      ]
    },
    {
      "cell_type": "code",
      "execution_count": null,
      "metadata": {
        "id": "3PpgOr7z16wO"
      },
      "outputs": [],
      "source": [
        "import os\n",
        "from multiprocessing import Pool, cpu_count\n",
        "from nltk.probability import FreqDist\n",
        "from functools import partial"
      ]
    },
    {
      "cell_type": "code",
      "execution_count": null,
      "metadata": {
        "id": "iTMC0Pn_19LN"
      },
      "outputs": [],
      "source": [
        "def filter_tokens(tokens, vocab_red):\n",
        "    \"\"\"\n",
        "    Filters the tokens based on the reduced vocabulary.\n",
        "    \"\"\"\n",
        "    return [token for token in tokens if token in vocab_red]"
      ]
    },
    {
      "cell_type": "code",
      "execution_count": null,
      "metadata": {
        "id": "Z2Hs4fHJ2Atr"
      },
      "outputs": [],
      "source": [
        "def get_reduced_vocab(tokens, n=7000):\n",
        "    \"\"\"\n",
        "    Computes the frequency distribution of tokens and returns the reduced vocabulary\n",
        "    containing the top 'n' most common words.\n",
        "    \"\"\"\n",
        "    freq_dist = FreqDist(tokens)\n",
        "    vocab_red = [word for word, _ in freq_dist.most_common(n)]\n",
        "    return vocab_red"
      ]
    },
    {
      "cell_type": "code",
      "execution_count": null,
      "metadata": {
        "id": "L9MIOAe02Jgy"
      },
      "outputs": [],
      "source": [
        "def parallel_filter(tokens, vocab_red):\n",
        "    \"\"\"\n",
        "    Filters tokens in parallel using multiple processes.\n",
        "    \"\"\"\n",
        "    # Split the tokens list into chunks to distribute among processes\n",
        "    num_chunks = os.cpu_count()\n",
        "    chunk_size = len(tokens) // num_chunks\n",
        "\n",
        "    # Create chunks of tokens\n",
        "    token_chunks = [tokens[i:i + chunk_size] for i in range(0, len(tokens), chunk_size)]\n",
        "\n",
        "    # Use a pool of workers to filter tokens in parallel\n",
        "    with Pool(num_chunks) as pool:\n",
        "        # Use 'partial' to pass the reduced vocab to each worker\n",
        "        results = pool.map(partial(filter_tokens, vocab_red=vocab_red), token_chunks)\n",
        "\n",
        "    # Flatten the results\n",
        "    filtered_tokens = [token for sublist in results for token in sublist]\n",
        "\n",
        "    return filtered_tokens"
      ]
    },
    {
      "cell_type": "code",
      "execution_count": null,
      "metadata": {
        "id": "m6vPJW8MMLVR"
      },
      "outputs": [],
      "source": [
        "def limit_vocab_in_parallel(tokens):\n",
        "    \"\"\"\n",
        "    Main function to reduce vocabulary and filter tokens using multiprocessing.\n",
        "    \"\"\"\n",
        "    # Get the reduced vocabulary\n",
        "    vocab_red = get_reduced_vocab(tokens, n=10000)\n",
        "\n",
        "    # Filter tokens in parallel\n",
        "    tokens_red = parallel_filter(tokens, vocab_red)\n",
        "\n",
        "    return tokens_red, vocab_red"
      ]
    },
    {
      "cell_type": "code",
      "execution_count": null,
      "metadata": {
        "colab": {
          "base_uri": "https://localhost:8080/"
        },
        "id": "q2M8NvhPQJFP",
        "outputId": "6c0a5c63-3794-44b1-ac21-644bae667cec"
      },
      "outputs": [
        {
          "name": "stdout",
          "output_type": "stream",
          "text": [
            "Vocabulary Reduction Done!\n",
            "Time taken to reduce vocabulary to 10K words: 6.9913763999938965 seconds\n"
          ]
        }
      ],
      "source": [
        "start = time.time()\n",
        "tokens_red, vocab_red = limit_vocab_in_parallel(tokens)\n",
        "end = time.time()\n",
        "\n",
        "print(\"Vocabulary Reduction Done!\")\n",
        "print(f\"Time taken to reduce vocabulary to 10K words: {end-start} seconds\")"
      ]
    },
    {
      "cell_type": "markdown",
      "metadata": {
        "id": "rCV0d76e2dZx"
      },
      "source": [
        "* Number of words in reduced voabulary and the respective count of tokens."
      ]
    },
    {
      "cell_type": "code",
      "execution_count": null,
      "metadata": {
        "colab": {
          "base_uri": "https://localhost:8080/"
        },
        "id": "XnYcEZlv_uNZ",
        "outputId": "17ea9f6f-9615-45d3-a230-893f9dec9f59"
      },
      "outputs": [
        {
          "data": {
            "text/plain": [
              "(10000, 4175079)"
            ]
          },
          "execution_count": 11,
          "metadata": {},
          "output_type": "execute_result"
        }
      ],
      "source": [
        "len(vocab_red), len(tokens_red)"
      ]
    },
    {
      "cell_type": "markdown",
      "metadata": {
        "id": "iYUqcajy2oTD"
      },
      "source": [
        "* Storing the $\\texttt{tokens_red}$ and $\\texttt{vocab_red}$ in pickle ($\\texttt{.pkl}$) file for future use."
      ]
    },
    {
      "cell_type": "code",
      "execution_count": null,
      "metadata": {
        "id": "_uAZAu9gYeqO"
      },
      "outputs": [],
      "source": [
        "with open('tokens_red.pkl', 'wb') as f:\n",
        "        pickle.dump(tokens_red, f)\n",
        "\n",
        "with open('vocab_red.pkl', 'wb') as f:\n",
        "        pickle.dump(vocab_red, f)"
      ]
    },
    {
      "cell_type": "code",
      "execution_count": null,
      "metadata": {
        "colab": {
          "base_uri": "https://localhost:8080/"
        },
        "id": "2VS_XPHlyo9i",
        "outputId": "3474ce71-6d2d-403f-f96a-1240dc9f9e42"
      },
      "outputs": [
        {
          "data": {
            "text/plain": [
              "[('patients', 32977),\n",
              " ('virus', 21818),\n",
              " ('infection', 20890),\n",
              " ('study', 20234),\n",
              " ('disease', 19712),\n",
              " ('data', 16289),\n",
              " ('viral', 16086),\n",
              " ('health', 16074),\n",
              " ('results', 15564),\n",
              " ('respiratory', 15246)]"
            ]
          },
          "execution_count": 17,
          "metadata": {},
          "output_type": "execute_result"
        }
      ],
      "source": [
        "from collections import Counter\n",
        "\n",
        "Counter(tokens_red).most_common(10)"
      ]
    },
    {
      "cell_type": "markdown",
      "source": [
        "### **Task 2**: Construct One-Hot Vectors (OHVs)\n",
        "You may construct each one on the fly (just in time) during training, or you can pre-create and store\n",
        "them in memory (volatile or non-volatile). If you associate numerical indexes with the vocabulary, you can\n",
        "generate each OHV on demand during training.\n"
      ],
      "metadata": {
        "id": "ruHlrNdDtPCO"
      }
    },
    {
      "cell_type": "code",
      "execution_count": null,
      "metadata": {
        "id": "DO8Qk2VxzuIb"
      },
      "outputs": [],
      "source": [
        "import numpy as np\n",
        "from multiprocessing import Pool\n",
        "\n",
        "# Create an index mapping (word to index)\n",
        "word_to_index = {word: idx for idx, word in enumerate(vocab_red)}\n",
        "vocab_size = len(vocab_red)\n",
        "\n",
        "def generate_one_hot_vector(word_idx):\n",
        "    \"\"\"\n",
        "    Generate a one-hot vector for a given word index.\n",
        "    \"\"\"\n",
        "    one_hot = np.zeros(vocab_size, dtype=int)\n",
        "    one_hot[word_idx] = 1\n",
        "    return one_hot\n",
        "\n",
        "def process_word(word):\n",
        "    \"\"\"\n",
        "    Process a single word to generate its one-hot vector.\n",
        "    \"\"\"\n",
        "    word_idx = word_to_index[word]\n",
        "    return generate_one_hot_vector(word_idx)\n",
        "\n",
        "def generate_one_hot_vectors_parallel(vocab):\n",
        "    \"\"\"\n",
        "    Generate one-hot vectors for the entire vocabulary in parallel.\n",
        "    \"\"\"\n",
        "    with Pool() as pool:\n",
        "        one_hot_vectors = pool.map(process_word, vocab)\n",
        "    return np.array(one_hot_vectors)"
      ]
    },
    {
      "cell_type": "code",
      "execution_count": null,
      "metadata": {
        "colab": {
          "base_uri": "https://localhost:8080/"
        },
        "id": "Gfa6xN2Oz28h",
        "outputId": "663279de-554a-451f-8c62-7010289a3cc4"
      },
      "outputs": [
        {
          "output_type": "stream",
          "name": "stdout",
          "text": [
            "One-hot Vector Generation Done!\n",
            "Time taken to generate one-hot vectors: 5.186119556427002 seconds\n"
          ]
        }
      ],
      "source": [
        "start = time.time()\n",
        "# Generate the one-hot vectors for the entire vocabulary\n",
        "one_hot_vectors = generate_one_hot_vectors_parallel(vocab_red)\n",
        "end = time.time()\n",
        "\n",
        "print(\"One-hot Vector Generation Done!\")\n",
        "print(f\"Time taken to generate one-hot vectors: {end-start} seconds\")"
      ]
    },
    {
      "cell_type": "code",
      "execution_count": null,
      "metadata": {
        "colab": {
          "base_uri": "https://localhost:8080/"
        },
        "id": "T2dmP8lPz-3Z",
        "outputId": "bd5e9193-0640-484f-a0cf-39741b107a2f"
      },
      "outputs": [
        {
          "name": "stdout",
          "output_type": "stream",
          "text": [
            "Word: case, One-Hot Vector: 1\n"
          ]
        }
      ],
      "source": [
        "# Verify one example\n",
        "print(f\"Word: {vocab_red[100]}, One-Hot Vector: {one_hot_vectors[100].sum()}\")"
      ]
    },
    {
      "cell_type": "code",
      "execution_count": null,
      "metadata": {
        "colab": {
          "base_uri": "https://localhost:8080/"
        },
        "id": "5mWXpMPw0tYu",
        "outputId": "0cf6fdd3-1de0-48c0-a13d-ba0ca9b7667f"
      },
      "outputs": [
        {
          "name": "stdout",
          "output_type": "stream",
          "text": [
            "One-hot vectors saved successfully!\n"
          ]
        }
      ],
      "source": [
        "import pickle\n",
        "\n",
        "# Save the one-hot vectors to a pickle file\n",
        "with open('one_hot_vectors.pkl', 'wb') as file:\n",
        "    pickle.dump(one_hot_vectors, file)\n",
        "\n",
        "print(\"One-hot vectors saved successfully!\")"
      ]
    },
    {
      "cell_type": "markdown",
      "source": [
        "#### Filtering Corpus based on reduced Vocabulary"
      ],
      "metadata": {
        "id": "B4dIgn0Qwl9f"
      }
    },
    {
      "cell_type": "code",
      "execution_count": null,
      "metadata": {
        "id": "ip0O9FzjRID_"
      },
      "outputs": [],
      "source": [
        "with open('tokens_red.pkl', 'rb') as f:\n",
        "    tokens_red = pickle.load(f)\n",
        "\n",
        "with open('vocab_red.pkl', 'rb') as f:\n",
        "    vocab_red = pickle.load(f)\n",
        "\n",
        "with open('one_hot_vectors.pkl', 'rb') as f:\n",
        "    one_hot_vectors = pickle.load(f)"
      ]
    },
    {
      "cell_type": "code",
      "source": [
        "def load_corpus(file_path):\n",
        "    \"\"\"\n",
        "    Load a corpus from a text file, where each line is a sentence.\n",
        "    \"\"\"\n",
        "    with open(file_path, 'r', encoding='utf-8') as f:\n",
        "        corpus = f.readlines()  # Read each line (assumed to be one sentence per line)\n",
        "    return [sentence.strip().split() for sentence in corpus]  # Tokenize each sentence into words\n",
        "\n",
        "\n",
        "def save_corpus(corpus, file_path):\n",
        "    \"\"\"\n",
        "    Save a corpus to a text file, where each line is a sentence.\n",
        "    \"\"\"\n",
        "    with open(file_path, 'w', encoding='utf-8') as f:\n",
        "        for sentence in corpus:\n",
        "            f.write(' '.join(sentence) + '\\n')  # Join tokens into sentences and write"
      ],
      "metadata": {
        "id": "9HslYjNfwBsv"
      },
      "execution_count": null,
      "outputs": []
    },
    {
      "cell_type": "code",
      "source": [
        "def filter_sentences(sentences, top_words):\n",
        "    \"\"\"\n",
        "    Filter sentences based on the top words.\n",
        "    \"\"\"\n",
        "    filtered_sentences = []\n",
        "    for sentence in sentences:\n",
        "        filtered_sentence = [word for word in sentence if word in top_words]\n",
        "        if filtered_sentence:  # Only add non-empty sentences\n",
        "            filtered_sentences.append(filtered_sentence)\n",
        "    return filtered_sentences\n",
        "\n",
        "\n",
        "def parallel_filter_corpus(corpus, top_words, num_workers=os.cpu_count()):\n",
        "    \"\"\"\n",
        "    Filter the corpus in parallel using multiple processes.\n",
        "    \"\"\"\n",
        "    # Split the corpus into chunks for each worker\n",
        "    chunk_size = len(corpus) // num_workers\n",
        "    corpus_chunks = [corpus[i:i + chunk_size] for i in range(0, len(corpus), chunk_size)]\n",
        "\n",
        "    # Create a pool of workers\n",
        "    pool = mp.Pool(processes=num_workers)\n",
        "\n",
        "    # Use the pool to filter each chunk of the corpus in parallel\n",
        "    results = pool.starmap(filter_sentences, [(chunk, top_words) for chunk in corpus_chunks])\n",
        "\n",
        "    # Close the pool\n",
        "    pool.close()\n",
        "    pool.join()\n",
        "\n",
        "    # Flatten the list of results\n",
        "    filtered_corpus = [sentence for result in results for sentence in result]\n",
        "\n",
        "    return filtered_corpus"
      ],
      "metadata": {
        "id": "vkjPvOcQwECA"
      },
      "execution_count": null,
      "outputs": []
    },
    {
      "cell_type": "code",
      "source": [
        "import multiprocessing as mp\n",
        "\n",
        "# File paths\n",
        "input_file = '/content/combined_abstracts_prep.txt'  # Input corpus file\n",
        "output_file = '/content/filtered_corpus.txt'         # Output file for filtered corpus\n",
        "\n",
        "# Load the corpus from the text file\n",
        "corpus = load_corpus(input_file)\n",
        "\n",
        "# Run the parallel filtering\n",
        "updated_corpus = parallel_filter_corpus(corpus, vocab_red, num_workers=4)\n",
        "\n",
        "# Save the updated corpus to a new file\n",
        "save_corpus(updated_corpus, output_file)"
      ],
      "metadata": {
        "id": "nC-q7e0rv8yj"
      },
      "execution_count": null,
      "outputs": []
    },
    {
      "cell_type": "markdown",
      "source": [
        "### **Task 3**: Describe Your Architecture\n",
        "\n"
      ],
      "metadata": {
        "id": "TC44Cba6uNyO"
      }
    },
    {
      "cell_type": "markdown",
      "source": [
        "#### **Class Definition**\n",
        "**Class**: `SkipGramNegSamp(nn.Module)`\n",
        "\n",
        "This class inherits from `nn.Module` in PyTorch. It defines the Skip-Gram model with negative sampling, which is designed to learn word embeddings by predicting context words from target words while minimizing loss for negative samples."
      ],
      "metadata": {
        "id": "liGkaxZ_7p68"
      }
    },
    {
      "cell_type": "markdown",
      "source": [
        "#### **Constructor**\n",
        "**Method**: `__init__(self, vocab_size, embedding_dim)`\n",
        "\n",
        "**Parameters**:\n",
        "- `vocab_size`: Size of the vocabulary, representing the number of unique words in the dataset.\n",
        "- `embedding_dim = 128`: Dimensionality of the word embeddings, specifying the size of the dense vectors for each word.\n",
        "\n",
        "\n",
        "**Components**:\n",
        "- `self.in_embedding`: Embedding layer for target words. Maps each word in the vocabulary to an `embedding_dim`-dimensional vector.\n",
        "- `self.out_embedding`: Embedding layer for context words. Similar to `in_embedding`, but used for context predictions.\n"
      ],
      "metadata": {
        "id": "eB53g6Lb73wC"
      }
    },
    {
      "cell_type": "markdown",
      "source": [
        "#### **Forward Method**\n",
        "\n",
        "**Method**: `forward(self, target, context, negative_samples)`\n",
        "\n",
        "**Input**:\n",
        "- `target`: Tensor of target word indices (shape: `(batch_size,)`).\n",
        "- `context`: Tensor of context word indices (shape: `(batch_size,)`).\n",
        "- `negative_samples`: Tensor of negative word indices (shape: `(batch_size, num_negative_samples = 5)`).\n",
        "\n",
        "**Process**:\n",
        "- Retrieves the target word embeddings from `self.in_embedding`.\n",
        "- Retrieves the context word embeddings from `self.out_embedding`.\n",
        "- Computes the **positive score** as the dot product of target and context word embeddings.\n",
        "- Computes the **negative scores** by taking the dot product of target word embeddings with negative samples.\n",
        "\n",
        "**Output**:\n",
        "- `positive_score`: A tensor representing the similarity score for target-context pairs.\n",
        "- `negative_scores`: A tensor representing similarity scores for negative samples."
      ],
      "metadata": {
        "id": "yXxHviFg71d7"
      }
    },
    {
      "cell_type": "markdown",
      "source": [
        "\n",
        "#### **Training Objective**\n",
        "The model is trained using **negative sampling**, where:\n",
        "- **Positive score** represents the likelihood of the target word being related to the context word.\n",
        "- **Negative scores** are used to minimize the likelihood of random (unrelated) words appearing as the context.\n",
        "\n",
        "The loss function used is `BCEWithLogitsLoss`, which applies binary cross-entropy between the predicted scores and the actual labels (positive context or negative samples). This architecture is optimized using **Stochastic Gradient Descent (SGD)**. Negative sampling reduces computational complexity by considering only a small number of incorrect (negative) word pairs, instead of calculating predictions for all words in the vocabulary."
      ],
      "metadata": {
        "id": "aULYPFST8CZ6"
      }
    },
    {
      "cell_type": "code",
      "source": [
        "import torch\n",
        "import torch.nn as nn\n",
        "import torch.optim as optim\n",
        "import numpy as np\n",
        "import pandas as pd\n",
        "import matplotlib.pyplot as plt\n",
        "from collections import Counter\n",
        "from tqdm.notebook import tqdm\n",
        "import random"
      ],
      "metadata": {
        "id": "OB9-NQgJKBlt"
      },
      "execution_count": null,
      "outputs": []
    },
    {
      "cell_type": "code",
      "source": [
        "# Check if GPU is available and use it if possible\n",
        "device = torch.device('cuda' if torch.cuda.is_available() else 'cpu')\n",
        "\n",
        "# Load the preprocessed text data\n",
        "with open('/content/filtered_corpus.txt', 'r') as file:\n",
        "    corpus = file.readlines()\n",
        "\n",
        "# Preprocess the corpus\n",
        "corpus = [line.strip().split() for line in corpus if line.strip()]\n",
        "\n",
        "# Flatten the corpus to a list of words\n",
        "flat_corpus = [word for sentence in corpus for word in sentence]\n",
        "\n",
        "# Create a vocabulary and a mapping from words to indices\n",
        "word_counts = Counter(flat_corpus)\n",
        "vocabulary = sorted(word_counts.keys())\n",
        "vocab_size = len(vocabulary)\n",
        "word_to_idx = {word: idx for idx, word in enumerate(vocabulary)}"
      ],
      "metadata": {
        "id": "RiDm6FeqUzQv"
      },
      "execution_count": null,
      "outputs": []
    },
    {
      "cell_type": "code",
      "source": [
        "# Hyperparameters\n",
        "embedding_dim = 128  # Dimension of word embeddings\n",
        "window_size = 2      # Context window size\n",
        "num_negative_samples = 5  # Number of negative samples per positive example\n",
        "num_epochs = 5       # Number of epochs\n",
        "learning_rate = 0.01 # Learning rate\n",
        "batch_size = 64      # Batch size for training"
      ],
      "metadata": {
        "id": "jAU0qu85KH1W"
      },
      "execution_count": null,
      "outputs": []
    },
    {
      "cell_type": "code",
      "source": [
        "def generate_training_data(corpus, window_size):\n",
        "    \"\"\"\n",
        "    Generate training data for the Skip-Gram model.\n",
        "    \"\"\"\n",
        "    training_pairs = []\n",
        "    for sentence in corpus:\n",
        "        indices = [word_to_idx[word] for word in sentence]\n",
        "        for i, word_idx in enumerate(indices):\n",
        "            # Create pairs of (target, context)\n",
        "            start = max(0, i - window_size)\n",
        "            end = min(len(indices), i + window_size + 1)\n",
        "            for j in range(start, end):\n",
        "                if i != j:  # Skip the target word itself\n",
        "                    training_pairs.append((word_idx, indices[j]))\n",
        "    return training_pairs"
      ],
      "metadata": {
        "id": "UzodLnbhKLLi"
      },
      "execution_count": null,
      "outputs": []
    },
    {
      "cell_type": "code",
      "source": [
        "training_pairs = generate_training_data(corpus, window_size)"
      ],
      "metadata": {
        "id": "lrYXyihzaE_5"
      },
      "execution_count": null,
      "outputs": []
    },
    {
      "cell_type": "code",
      "source": [
        "class SkipGramNegSamp(nn.Module):\n",
        "    \"\"\"\n",
        "    Skip-Gram model with negative sampling.\n",
        "    \"\"\"\n",
        "    def __init__(self, vocab_size, embedding_dim):\n",
        "        \"\"\"\n",
        "        Initialize the SkipGramNegSamp model.\n",
        "        \"\"\"\n",
        "        super(SkipGramNegSamp, self).__init__()\n",
        "        self.in_embedding = nn.Embedding(vocab_size, embedding_dim)\n",
        "        self.out_embedding = nn.Embedding(vocab_size, embedding_dim)\n",
        "\n",
        "    def forward(self, target, context, negative_samples):\n",
        "        \"\"\"\n",
        "        Forward pass of the SkipGramNegSamp model.\n",
        "        \"\"\"\n",
        "        # Get the target word embedding\n",
        "        target_embedding = self.in_embedding(target)  # Shape: (batch_size, embedding_dim)\n",
        "\n",
        "        # Positive score for the context word\n",
        "        context_embedding = self.out_embedding(context)  # Shape: (batch_size, embedding_dim)\n",
        "        positive_score = torch.sum(target_embedding * context_embedding, dim=1)  # Dot product\n",
        "\n",
        "        # Negative scores for the negative samples\n",
        "        negative_embeddings = self.out_embedding(negative_samples)  # Shape: (batch_size, num_negative_samples, embedding_dim)\n",
        "        negative_scores = torch.bmm(negative_embeddings, target_embedding.unsqueeze(2)).squeeze(2)  # Dot product\n",
        "\n",
        "        return positive_score, negative_scores"
      ],
      "metadata": {
        "id": "BH6d-leOKReQ"
      },
      "execution_count": null,
      "outputs": []
    },
    {
      "cell_type": "code",
      "source": [
        "def create_batches(training_data, batch_size):\n",
        "    \"\"\"\n",
        "    Create batches of training data.\n",
        "    \"\"\"\n",
        "    random.shuffle(training_data)  # Shuffle the data before batching\n",
        "    batches = [training_data[i:i + batch_size] for i in range(0, len(training_data), batch_size)]\n",
        "    return batches"
      ],
      "metadata": {
        "id": "ddWqxqaAKYFY"
      },
      "execution_count": null,
      "outputs": []
    },
    {
      "cell_type": "markdown",
      "source": [
        "### **Task 6**: Use Negative Sampling"
      ],
      "metadata": {
        "id": "h3XSjpPAKy4q"
      }
    },
    {
      "cell_type": "code",
      "source": [
        "def sample_negative_words(batch_size, num_negative_samples, vocab_size, exclude):\n",
        "    \"\"\"\n",
        "    Sample negative words (indices) that are not in the positive context.\n",
        "    \"\"\"\n",
        "    negative_samples = []\n",
        "    for _ in range(batch_size):\n",
        "        negatives = []\n",
        "        while len(negatives) < num_negative_samples:\n",
        "            neg_sample = random.randint(0, vocab_size - 1)\n",
        "            if neg_sample not in exclude:  # Ensure the negative sample is not in the context\n",
        "                negatives.append(neg_sample)\n",
        "        negative_samples.append(negatives)\n",
        "    return torch.tensor(negative_samples, dtype=torch.long).to(device)"
      ],
      "metadata": {
        "id": "CE_FbVpfKTdH"
      },
      "execution_count": null,
      "outputs": []
    },
    {
      "cell_type": "markdown",
      "source": [
        "### **Task 4**: Use Stochastic Gradient Descent (SGD)"
      ],
      "metadata": {
        "id": "mvSjmPBPK8GB"
      }
    },
    {
      "cell_type": "code",
      "source": [
        "# Initialize the model, loss function, and optimizer\n",
        "model = SkipGramNegSamp(vocab_size, embedding_dim).to(device)  # Move model to GPU\n",
        "optimizer = optim.SGD(model.parameters(), lr=learning_rate) # Stochastic Gradient Descent\n",
        "loss_fn = nn.BCEWithLogitsLoss()  # Binary Cross-Entropy loss for positive/negative samples"
      ],
      "metadata": {
        "id": "WQUGhWYMKfNB"
      },
      "execution_count": null,
      "outputs": []
    },
    {
      "cell_type": "markdown",
      "source": [
        "#### Training the SkipGram Model"
      ],
      "metadata": {
        "id": "XPsmq3V15u-z"
      }
    },
    {
      "cell_type": "code",
      "execution_count": null,
      "metadata": {
        "colab": {
          "base_uri": "https://localhost:8080/",
          "height": 264,
          "referenced_widgets": [
            "8f9a449224ca4c2488e407d8a46e4f27",
            "2a32789d89c148a6a16287bc61398f79",
            "35348f825f71479594119b0dce150398",
            "cdc8f048c3064a808ec5f0fc9fbe1c25",
            "5ef109780a984ee99db3700cd0f6f65f",
            "55aba166b26f4a9f83c7d88ad5ce09fa",
            "adc1e37e05bd4aac9f37343e2ce3be1d",
            "28b291e837fc4a41a0da4f636e9014ff",
            "edc8e9a95ca645fa8f9c8bd3f2a04f98",
            "200958a011b34f85ae98696e7975c648",
            "bc6c8bf0980b4556a8823247bb48bc77",
            "aabeea0515f1436bb25c663560e7c6e1",
            "43dbd18ed31b4b0c8e80815d77574cd6",
            "c82dd447b3244a06af299c3285957de5",
            "cf168ba501254744ae93ee51ead368f2",
            "fe07e522c43d41879075bc465b35e78d",
            "d7f7be351c45420dbedc4fc689701b19",
            "170abdda99ac479bb02cf78bcbea4a94",
            "fd91c0471f8a4576a682c23a482e59d8",
            "dc53073205664039a1338f227a679560",
            "a8309b566a374b04ac12088915ec7fbd",
            "84cf675694cf4bad90a108879af3b93e",
            "f210aa1dc6d640359cfd689c326a9627",
            "368859871e6040bd953802d4ee096daa",
            "713c2f600a60472393db4f3a71cc3336",
            "6b07fca380184d05b07385b75c0159be",
            "10602755247f4573bcd5b1b6a8916413",
            "abbf4a1f0c4649eeb8691cabab47073c",
            "6fe7b583862e49fd8933cca4fcb9ec17",
            "42e7730cb0a545358dc83930e2d3840d",
            "5b16715294354513bbe89fcef1567339",
            "b18a6d7f6b5e48909f12ca47aaca8de9",
            "f95331765b7c470c923b115d99f7fd81",
            "9f66748d7eee4613b6a847b42ca21456",
            "e75e069184f340a4b073ceeca31717cf",
            "da1a773083bb4695bf4a735eef1fb41d",
            "06dc379e79104e7eaa46d5088035cb40",
            "c24826cf41464d42b556dd57eed82715",
            "5e19f9401686402db18564a59aaf311c",
            "4abc1b3b383442a79eff1a635752d9c7",
            "e6d2148c5f5146ebbf7b620b48092ce4",
            "06845a1e3dbc4cf89f92500e1761f645",
            "24012e6f315b4694aae3f169a0e6575f",
            "066a17378f6f4e9393febeeace2049c3",
            "1be81ff7d3b9443e9d0b688f1cb3e21a",
            "34b7ba799a064e13bb5ba41f47a40861",
            "904ce098015247b296c203d06ec99257",
            "4daba4c1b4b74683a7df024bd55d2290",
            "92ccccb810e14162afb8d78ff79ada8c",
            "ac9aeba36c904c55bd1bb84ba04530ae",
            "7a6afa11e7d94a31a8819c124aaabe5b",
            "075a2d0d738c41828c30dc67697ed96a",
            "f03fa20a07554d8db6d72e99ccf36597",
            "3cfa04c4d6724bfb81edb85adbb9d1d5",
            "ca66aa56f79d4eb9bcf060a52b3ec974"
          ]
        },
        "id": "OPmuMx05CdC8",
        "outputId": "2d6ee36b-62ac-4e91-a5ce-643d3e49c4bf"
      },
      "outputs": [
        {
          "data": {
            "application/vnd.jupyter.widget-view+json": {
              "model_id": "8f9a449224ca4c2488e407d8a46e4f27",
              "version_major": 2,
              "version_minor": 0
            },
            "text/plain": [
              "  0%|          | 0/112823 [00:00<?, ?it/s]"
            ]
          },
          "metadata": {},
          "output_type": "display_data"
        },
        {
          "name": "stdout",
          "output_type": "stream",
          "text": [
            "Epoch [1/5], Loss: 7.6211\n"
          ]
        },
        {
          "data": {
            "application/vnd.jupyter.widget-view+json": {
              "model_id": "aabeea0515f1436bb25c663560e7c6e1",
              "version_major": 2,
              "version_minor": 0
            },
            "text/plain": [
              "  0%|          | 0/112823 [00:00<?, ?it/s]"
            ]
          },
          "metadata": {},
          "output_type": "display_data"
        },
        {
          "name": "stdout",
          "output_type": "stream",
          "text": [
            "Epoch [2/5], Loss: 6.7158\n"
          ]
        },
        {
          "data": {
            "application/vnd.jupyter.widget-view+json": {
              "model_id": "f210aa1dc6d640359cfd689c326a9627",
              "version_major": 2,
              "version_minor": 0
            },
            "text/plain": [
              "  0%|          | 0/112823 [00:00<?, ?it/s]"
            ]
          },
          "metadata": {},
          "output_type": "display_data"
        },
        {
          "name": "stdout",
          "output_type": "stream",
          "text": [
            "Epoch [3/5], Loss: 6.0447\n"
          ]
        },
        {
          "data": {
            "application/vnd.jupyter.widget-view+json": {
              "model_id": "9f66748d7eee4613b6a847b42ca21456",
              "version_major": 2,
              "version_minor": 0
            },
            "text/plain": [
              "  0%|          | 0/112823 [00:00<?, ?it/s]"
            ]
          },
          "metadata": {},
          "output_type": "display_data"
        },
        {
          "name": "stdout",
          "output_type": "stream",
          "text": [
            "Epoch [4/5], Loss: 5.5193\n"
          ]
        },
        {
          "data": {
            "application/vnd.jupyter.widget-view+json": {
              "model_id": "1be81ff7d3b9443e9d0b688f1cb3e21a",
              "version_major": 2,
              "version_minor": 0
            },
            "text/plain": [
              "  0%|          | 0/112823 [00:00<?, ?it/s]"
            ]
          },
          "metadata": {},
          "output_type": "display_data"
        },
        {
          "name": "stdout",
          "output_type": "stream",
          "text": [
            "Epoch [5/5], Loss: 5.0931\n"
          ]
        }
      ],
      "source": [
        "# Training loop with batching\n",
        "all_losses = []\n",
        "for epoch in range(num_epochs):\n",
        "    total_loss = 0\n",
        "    batches = create_batches(training_pairs, batch_size)\n",
        "\n",
        "    for batch in tqdm(batches):\n",
        "        target_batch = []\n",
        "        context_batch = []\n",
        "        negative_samples_batch = []\n",
        "\n",
        "        for target_word_idx, context_word_idx in batch:\n",
        "            target_batch.append(target_word_idx)\n",
        "            context_batch.append(context_word_idx)\n",
        "\n",
        "            # Sample negative words for the batch\n",
        "            negative_samples = sample_negative_words(1, num_negative_samples, vocab_size, exclude={target_word_idx, context_word_idx})\n",
        "            negative_samples_batch.append(negative_samples)\n",
        "\n",
        "        target_batch = torch.tensor(target_batch, dtype=torch.long).to(device)\n",
        "        context_batch = torch.tensor(context_batch, dtype=torch.long).to(device)\n",
        "        negative_samples_batch = torch.stack(negative_samples_batch).squeeze(1)  # Stack the negative samples\n",
        "\n",
        "        optimizer.zero_grad()  # Zero the gradients\n",
        "\n",
        "        # Forward pass\n",
        "        positive_score, negative_scores = model(target_batch, context_batch, negative_samples_batch)\n",
        "\n",
        "        # Get the actual batch size\n",
        "        actual_batch_size = target_batch.shape[0]\n",
        "\n",
        "        # Loss for positive score (should be 1)\n",
        "        positive_labels = torch.ones(actual_batch_size).to(device)  # Positive sample labels with actual batch size\n",
        "        positive_loss = loss_fn(positive_score, positive_labels)\n",
        "\n",
        "        # Loss for negative scores (should be 0)\n",
        "        negative_labels = torch.zeros(actual_batch_size, num_negative_samples).to(device)  # Negative sample labels with actual batch size\n",
        "        negative_loss = loss_fn(negative_scores, negative_labels)\n",
        "\n",
        "        # Combine positive and negative losses\n",
        "        loss = positive_loss + negative_loss\n",
        "        loss.backward()  # Backward pass\n",
        "        optimizer.step()  # Update weights\n",
        "\n",
        "        total_loss += loss.item()\n",
        "\n",
        "    average_loss = total_loss / len(batches)\n",
        "    all_losses.append(average_loss)\n",
        "    print(f'Epoch [{epoch + 1}/{num_epochs}], Loss: {average_loss:.4f}')"
      ]
    },
    {
      "cell_type": "markdown",
      "source": [
        "### **Task 5**: Plot Epochs vs. Training Error"
      ],
      "metadata": {
        "id": "iklRv1fJLG88"
      }
    },
    {
      "cell_type": "code",
      "execution_count": null,
      "metadata": {
        "colab": {
          "base_uri": "https://localhost:8080/",
          "height": 366
        },
        "id": "QD604f0xC8aA",
        "outputId": "5b664168-5ae1-4df4-da5c-583a7a21d4bd"
      },
      "outputs": [
        {
          "data": {
            "image/png": "[encoded data removed]",
            "text/plain": [
              "<Figure size 1000x500 with 1 Axes>"
            ]
          },
          "metadata": {},
          "output_type": "display_data"
        }
      ],
      "source": [
        "# Plotting Epochs vs. Training Error\n",
        "plt.figure(figsize=(10, 5))\n",
        "plt.plot(range(1, num_epochs + 1), all_losses, marker='o')\n",
        "plt.title('Epochs vs. Training Error (Negative Sampling with Batching)')\n",
        "plt.xlabel('Epochs')\n",
        "plt.ylabel('Training Error (Loss)')\n",
        "plt.show()"
      ]
    },
    {
      "cell_type": "markdown",
      "source": [
        "* Saving the trained model and word embeddings for future use."
      ],
      "metadata": {
        "id": "NQURYAVu4qhN"
      }
    },
    {
      "cell_type": "code",
      "source": [
        "# Save the trained model\n",
        "torch.save(model.state_dict(), 'SkipGram_Neg_Samp_A4.pth')"
      ],
      "metadata": {
        "id": "QJ5bURrS4Yzb"
      },
      "execution_count": null,
      "outputs": []
    },
    {
      "cell_type": "code",
      "source": [
        "# Save word embeddings\n",
        "word_embeddings = model.in_embedding.weight.data.cpu().numpy()  # Move to CPU before saving\n",
        "\n",
        "# Create a DataFrame for word embeddings\n",
        "embeddings_df = pd.DataFrame(word_embeddings, index=vocabulary)\n",
        "embeddings_df.to_csv('word_embeddings.csv')"
      ],
      "metadata": {
        "id": "_b28IQSo4e7z"
      },
      "execution_count": null,
      "outputs": []
    },
    {
      "cell_type": "markdown",
      "source": [
        "### **Task 7**: Test Analogies\n",
        "Provide at least one example to test word analogies. The chosen words should not include the following\n",
        "terms: ”man,” ”woman,” ”boy,” ”girl,” ”country,” ”city,” ”malware,” ”virus,” and their synonyms. Ensure\n",
        "that two of the selected words used in the analogy are related to COVID-19."
      ],
      "metadata": {
        "id": "scZt5QpkLeYW"
      }
    },
    {
      "cell_type": "code",
      "source": [
        "import pandas as pd\n",
        "\n",
        "# Load word embeddings from CSV\n",
        "embeddings_df = pd.read_csv('word_embeddings.csv', index_col=0)\n",
        "embeddings = torch.tensor(embeddings_df.values).to(device)  # Convert to tensor and move to GPU if available\n",
        "\n",
        "# Create a mapping from index to word\n",
        "idx_to_word = embeddings_df.index.tolist()\n",
        "word_to_idx = {word: idx for idx, word in enumerate(idx_to_word)}"
      ],
      "metadata": {
        "id": "ZHu7ZT2vcH2K"
      },
      "execution_count": null,
      "outputs": []
    },
    {
      "cell_type": "code",
      "source": [
        "import random\n",
        "\n",
        "# Forbidden words and their synonyms\n",
        "forbidden_words = {\"man\", \"woman\", \"boy\", \"girl\", \"country\", \"city\", \"malware\", \"virus\"}\n",
        "\n",
        "# This can be expanded with more synonyms as needed\n",
        "forbidden_synonyms = {\"male\", \"female\", \"child\", \"nation\", \"metropolis\", \"infection\"}\n",
        "\n",
        "# COVID-19 related words (you can expand this list as needed)\n",
        "covid_related_words = {\"pandemic\", \"sickness\", \"infection\", \"quarantine\", \"transmission\", \"symptom\", \"outbreak\", \"prevention\", \"isolation\", \"vaccination\"}\n",
        "\n",
        "# Load word embeddings from CSV\n",
        "embeddings_df = pd.read_csv('word_embeddings.csv', index_col=0)\n",
        "\n",
        "# Create a list of available words, excluding forbidden words and their synonyms\n",
        "words_list = [word for word in embeddings_df.index if word not in forbidden_words and word not in forbidden_synonyms]\n",
        "\n",
        "# Create a list of available COVID-19 related words\n",
        "available_covid_words = [word for word in words_list if word in covid_related_words]"
      ],
      "metadata": {
        "id": "VozVoZq3-K1b"
      },
      "execution_count": null,
      "outputs": []
    },
    {
      "cell_type": "code",
      "source": [
        "def create_custom_examples(num_examples=5):\n",
        "    \"\"\"\n",
        "    Create custom analogy examples.\n",
        "    \"\"\"\n",
        "    examples = []\n",
        "    for _ in range(num_examples):\n",
        "        # Select two COVID-19 related words\n",
        "        word_a, word_b = random.sample(available_covid_words, 2)\n",
        "\n",
        "        # Select a third word from the general vocabulary (not restricted to COVID-19)\n",
        "        remaining_words = [word for word in words_list if word not in available_covid_words]\n",
        "        word_c = random.choice(remaining_words)\n",
        "\n",
        "        examples.append((word_a, word_b, word_c))\n",
        "    return examples"
      ],
      "metadata": {
        "id": "74-3TIYw-O--"
      },
      "execution_count": null,
      "outputs": []
    },
    {
      "cell_type": "code",
      "source": [
        "# Create the custom examples list\n",
        "examples = create_custom_examples(num_examples=5)\n",
        "print(np.array(examples))"
      ],
      "metadata": {
        "colab": {
          "base_uri": "https://localhost:8080/"
        },
        "id": "nZo1L180tw4b",
        "outputId": "a6431983-9c29-4cf2-aabd-2dfa718ff1e9"
      },
      "execution_count": null,
      "outputs": [
        {
          "output_type": "stream",
          "name": "stdout",
          "text": [
            "[['sickness' 'isolation' 'incidence']\n",
            " ['prevention' 'isolation' 'prototype']\n",
            " ['quarantine' 'pandemic' 'shocks']\n",
            " ['vaccination' 'quarantine' 'grains']\n",
            " ['pandemic' 'symptom' 'optimize']]\n"
          ]
        }
      ]
    },
    {
      "cell_type": "markdown",
      "source": [
        "Given three words `word_a`, `word_b`, and `word_c`, we aim to find a fourth word `word_d` that completes the analogy:\n",
        "\n",
        "`word_a` is to `word_b` as `word_c` is to `word_d`\n",
        "\n",
        "$ \\text{or, } e_a - e_b ≃ e_c - e_d$\n",
        "\n",
        "To find `word_d`, we compute an analogy vector $v_{analogy}$ based on the embeddings $e_a$, $e_b$ and $e_c$\n",
        "\n",
        "$$\n",
        "\\vec{v}_{\\text{analogy}} = \\vec{e}_b - \\vec{e}_a + \\vec{e}_c\n",
        "$$\n",
        "\n",
        "This vector is then compared to each word embedding $e_w$ in the vocabulary by calculating the similarity:\n",
        "\n",
        "$$\n",
        "\\text{similarity} = \\vec{v}_{\\text{analogy}} \\cdot \\vec{e}_w\n",
        "$$\n",
        "\n",
        "The word with the highest similarity score is selected as the answer to the analogy."
      ],
      "metadata": {
        "id": "JzOsXo8BT_qq"
      }
    },
    {
      "cell_type": "code",
      "source": [
        "def test_analogy(word_a, word_b, word_c):\n",
        "    \"\"\"\n",
        "    Test the analogy between word_a, word_b, and word_c.\n",
        "    \"\"\"\n",
        "    # Get the indices of the words\n",
        "    idx_a = word_to_idx[word_a]\n",
        "    idx_b = word_to_idx[word_b]\n",
        "    idx_c = word_to_idx[word_c]\n",
        "\n",
        "    # Calculate the analogy vector\n",
        "    analogy_vector = embeddings[idx_b] - embeddings[idx_a] + embeddings[idx_c]\n",
        "\n",
        "    # Get the nearest word in the vocabulary\n",
        "    similarities = torch.matmul(embeddings, analogy_vector)  # Similarity scores\n",
        "    most_similar_word_idx = torch.argmax(similarities).item()\n",
        "\n",
        "    # Return the most similar word\n",
        "    return idx_to_word[most_similar_word_idx]"
      ],
      "metadata": {
        "id": "d_aKx5iE43Dw"
      },
      "execution_count": null,
      "outputs": []
    },
    {
      "cell_type": "code",
      "source": [
        "# Testing each analogy example\n",
        "for word_a, word_b, word_c in examples:\n",
        "    result = test_analogy(word_a, word_b, word_c)\n",
        "    BLUE = '\\033[94m'\n",
        "    RESET = '\\033[0m'\n",
        "    # Modified print statement\n",
        "    print(f\"Analogy result for '{word_a}' is to '{word_b}' as '{BLUE}{result}{RESET}' is to '{word_c}'\")"
      ],
      "metadata": {
        "colab": {
          "base_uri": "https://localhost:8080/"
        },
        "id": "L0MfDcWDt0TK",
        "outputId": "9e82b754-1937-4f61-b144-4cc5b4f8af37"
      },
      "execution_count": null,
      "outputs": [
        {
          "output_type": "stream",
          "name": "stdout",
          "text": [
            "Analogy result for 'sickness' is to 'isolation' as '\u001b[94mvertebrate\u001b[0m' is to 'incidence'\n",
            "Analogy result for 'prevention' is to 'isolation' as '\u001b[94mprototype\u001b[0m' is to 'prototype'\n",
            "Analogy result for 'quarantine' is to 'pandemic' as '\u001b[94mshocks\u001b[0m' is to 'shocks'\n",
            "Analogy result for 'vaccination' is to 'quarantine' as '\u001b[94mgrains\u001b[0m' is to 'grains'\n",
            "Analogy result for 'pandemic' is to 'symptom' as '\u001b[94moptimize\u001b[0m' is to 'optimize'\n"
          ]
        }
      ]
    },
    {
      "cell_type": "markdown",
      "source": [
        "## Assignment 05\n",
        "\n",
        "There are two matrices in this word2vec `SkipGramNegSamp` model\n",
        "* $W_{in}$ - connecting the input and hidden layer\n",
        "* $W_{out}$ - connecting the hidden and the output layer\n",
        "\n",
        "Usually $W_{in}$ is used for word embedding and $W_{out}$ is ignored. In this assignment, you will execute the following:"
      ],
      "metadata": {
        "id": "ih9AnY_U1uNj"
      }
    },
    {
      "cell_type": "markdown",
      "source": [
        "### **Task 1**: Find similar words for a word of your choice using $W_{in}$"
      ],
      "metadata": {
        "id": "nk1OhlXk1rtQ"
      }
    },
    {
      "cell_type": "code",
      "source": [
        "# Create idx_to_word by reversing the word_to_idx dictionary\n",
        "idx_to_word = {index: word for word, index in word_to_idx.items()}"
      ],
      "metadata": {
        "id": "XYgtChe6pTRr"
      },
      "execution_count": null,
      "outputs": []
    },
    {
      "cell_type": "code",
      "source": [
        "def get_word_embedding(word, embedding_matrix, word_to_idx):\n",
        "    \"\"\"\n",
        "    Get the embedding vector for a given word.\n",
        "    \"\"\"\n",
        "    word_idx = word_to_idx[word]\n",
        "    return embedding_matrix[word_idx]\n",
        "\n",
        "def find_similar_words(word, embedding_matrix, word_to_idx, idx_to_word, top_k=5):\n",
        "    \"\"\"\n",
        "    Find similar words to a given word based on cosine similarity.\n",
        "    \"\"\"\n",
        "    # Get the embedding for the given word\n",
        "    word_embedding = get_word_embedding(word, embedding_matrix, word_to_idx)\n",
        "    similarities = []\n",
        "\n",
        "    # Compute cosine similarity with all other words\n",
        "    for i, embedding in enumerate(embedding_matrix):\n",
        "        sim = torch.cosine_similarity(torch.tensor(word_embedding), torch.tensor(embedding), dim=0)\n",
        "        similarities.append((idx_to_word[i], sim.item()))\n",
        "\n",
        "    # Sort by similarity and return the top-k most similar words\n",
        "    similarities = sorted(similarities, key=lambda x: x[1], reverse=True)\n",
        "    return similarities[:top_k]"
      ],
      "metadata": {
        "id": "EEXx7a6PiQ4e"
      },
      "execution_count": null,
      "outputs": []
    },
    {
      "cell_type": "code",
      "source": [
        "# Using Win matrix\n",
        "similar_words_win = find_similar_words(\"patients\", model.in_embedding.weight.detach().cpu().numpy(), word_to_idx, idx_to_word)"
      ],
      "metadata": {
        "id": "geaiWClj1hnv"
      },
      "execution_count": null,
      "outputs": []
    },
    {
      "cell_type": "code",
      "source": [
        "similar_words_win"
      ],
      "metadata": {
        "colab": {
          "base_uri": "https://localhost:8080/"
        },
        "id": "25fKeB0FpY6b",
        "outputId": "f7a9fc1a-27f6-43cf-a09c-991a0b7770ac"
      },
      "execution_count": null,
      "outputs": [
        {
          "output_type": "execute_result",
          "data": {
            "text/plain": [
              "[('patients', 1.0),\n",
              " ('infection', 0.7654737234115601),\n",
              " ('disease', 0.7362645864486694),\n",
              " ('study', 0.7117049694061279),\n",
              " ('data', 0.6768487691879272)]"
            ]
          },
          "metadata": {},
          "execution_count": 20
        }
      ]
    },
    {
      "cell_type": "code",
      "source": [
        "print(\"Similar words for 'patients' (W_input):\")\n",
        "print()\n",
        "for word, similarity in similar_words_win:\n",
        "    print(f'{word}: {similarity:.4f}')"
      ],
      "metadata": {
        "colab": {
          "base_uri": "https://localhost:8080/"
        },
        "id": "0UieaZwF_N3E",
        "outputId": "8ab7fcc1-7fa5-4378-cfca-e0f62567d17f"
      },
      "execution_count": null,
      "outputs": [
        {
          "output_type": "stream",
          "name": "stdout",
          "text": [
            "Similar words for 'patients' (W_input):\n",
            "\n",
            "patients: 1.0000\n",
            "infection: 0.7655\n",
            "disease: 0.7363\n",
            "study: 0.7117\n",
            "data: 0.6768\n"
          ]
        }
      ]
    },
    {
      "cell_type": "markdown",
      "source": [
        "### **Task 2**: Find the similar words for the same word chosen in (1) using $W_{out}$"
      ],
      "metadata": {
        "id": "oyw67ERz14zV"
      }
    },
    {
      "cell_type": "code",
      "source": [
        "# Using Wout matrix\n",
        "similar_words_wout = find_similar_words(\"patients\", model.out_embedding.weight.detach().cpu().numpy(), word_to_idx, idx_to_word)"
      ],
      "metadata": {
        "id": "wAfPCnzfpgvs"
      },
      "execution_count": null,
      "outputs": []
    },
    {
      "cell_type": "code",
      "source": [
        "similar_words_wout"
      ],
      "metadata": {
        "colab": {
          "base_uri": "https://localhost:8080/"
        },
        "id": "OLl79yfzqAa6",
        "outputId": "0dafb549-568c-4ddf-a0db-01e053ad94ea"
      },
      "execution_count": null,
      "outputs": [
        {
          "output_type": "execute_result",
          "data": {
            "text/plain": [
              "[('patients', 1.0000001192092896),\n",
              " ('pandemic', 0.45847299695014954),\n",
              " ('infection', 0.42095503211021423),\n",
              " ('study', 0.39711931347846985),\n",
              " ('may', 0.3768135607242584)]"
            ]
          },
          "metadata": {},
          "execution_count": 22
        }
      ]
    },
    {
      "cell_type": "code",
      "source": [
        "print(\"Similar words for 'patients' (W_output):\")\n",
        "print()\n",
        "for word, similarity in similar_words_wout:\n",
        "    print(f'{word}: {similarity:.4f}')"
      ],
      "metadata": {
        "colab": {
          "base_uri": "https://localhost:8080/"
        },
        "id": "UseH2XhG25eB",
        "outputId": "a8a4f438-b1c6-4299-d122-9211a2b61401"
      },
      "execution_count": null,
      "outputs": [
        {
          "output_type": "stream",
          "name": "stdout",
          "text": [
            "Similar words for 'patients' (W_output):\n",
            "\n",
            "patients: 1.0000\n",
            "pandemic: 0.4585\n",
            "infection: 0.4210\n",
            "study: 0.3971\n",
            "may: 0.3768\n"
          ]
        }
      ]
    },
    {
      "cell_type": "markdown",
      "source": [
        "### **Task 3** : Find the similar words for the same word chosen in (1) after combining $W_{in}$ and $W_{out}$ - either concatenate them to have a longer vector or average them out"
      ],
      "metadata": {
        "id": "xBboVK982C5H"
      }
    },
    {
      "cell_type": "code",
      "source": [
        "def combine_embeddings(word, in_matrix, out_matrix, word_to_idx, method='concat'):\n",
        "    \"\"\"\n",
        "    Combine embeddings from in_matrix and out_matrix based on the specified method.\n",
        "    \"\"\"\n",
        "    # Assuming idx_to_word is a dictionary mapping index to word\n",
        "    word = idx_to_word.get(word)  # If word is an index, get the actual word\n",
        "\n",
        "    if word is not None and word in word_to_idx:\n",
        "        in_embedding = get_word_embedding(word, in_matrix, word_to_idx)\n",
        "        out_embedding = get_word_embedding(word, out_matrix, word_to_idx)\n",
        "\n",
        "        if method == 'concat':\n",
        "            combined_embedding = np.concatenate((in_embedding, out_embedding))\n",
        "        elif method == 'average':\n",
        "            combined_embedding = (in_embedding + out_embedding) / 2\n",
        "\n",
        "        return combined_embedding\n",
        "    else:\n",
        "        return np.zeros(in_matrix.shape[1] + out_matrix.shape[1] if method == 'concat' else in_matrix.shape[1])"
      ],
      "metadata": {
        "id": "rBrpBEgtqCKb"
      },
      "execution_count": null,
      "outputs": []
    },
    {
      "cell_type": "markdown",
      "source": [
        "* Using `average` of $W_{in}$ and $W_{out}$ for `combined_embeddings`"
      ],
      "metadata": {
        "id": "g1VWLTLz9Xcw"
      }
    },
    {
      "cell_type": "code",
      "source": [
        "combined_embeddings = np.array([combine_embeddings(w, model.in_embedding.weight.detach().cpu().numpy(),\n",
        "                                        model.out_embedding.weight.detach().cpu().numpy(),\n",
        "                                        word_to_idx, method='average') for w in idx_to_word])"
      ],
      "metadata": {
        "id": "pctnBBrR9RF2"
      },
      "execution_count": null,
      "outputs": []
    },
    {
      "cell_type": "code",
      "source": [
        "similar_words_combined = find_similar_words(\"patients\", combined_embeddings, word_to_idx, idx_to_word)"
      ],
      "metadata": {
        "id": "u9fe9ZnS9p2W"
      },
      "execution_count": null,
      "outputs": []
    },
    {
      "cell_type": "code",
      "source": [
        "similar_words_combined"
      ],
      "metadata": {
        "colab": {
          "base_uri": "https://localhost:8080/"
        },
        "id": "DYwt9Bg_qLrR",
        "outputId": "2bcdbb6a-b583-4ca0-df1e-151e159b5492"
      },
      "execution_count": null,
      "outputs": [
        {
          "output_type": "execute_result",
          "data": {
            "text/plain": [
              "[('patients', 0.9999998807907104),\n",
              " ('pandemic', 0.5272459387779236),\n",
              " ('infection', 0.52550208568573),\n",
              " ('study', 0.5064181685447693),\n",
              " ('may', 0.4640401303768158)]"
            ]
          },
          "metadata": {},
          "execution_count": 25
        }
      ]
    },
    {
      "cell_type": "code",
      "source": [
        "print(\"Similar words for 'patients' (W_combined):\")\n",
        "print()\n",
        "for word, similarity in similar_words_combined:\n",
        "    print(f'{word}: {similarity:.4f}')"
      ],
      "metadata": {
        "colab": {
          "base_uri": "https://localhost:8080/"
        },
        "id": "OrTFBH1V3T0Z",
        "outputId": "20905c70-9950-4293-8f38-80788532024e"
      },
      "execution_count": null,
      "outputs": [
        {
          "output_type": "stream",
          "name": "stdout",
          "text": [
            "Similar words for 'patients' (W_combined):\n",
            "\n",
            "patients: 1.0000\n",
            "pandemic: 0.5272\n",
            "infection: 0.5255\n",
            "study: 0.5064\n",
            "may: 0.4640\n"
          ]
        }
      ]
    },
    {
      "cell_type": "markdown",
      "source": [
        "### **Task 4**: Compare the results of (1), (2) and (3) and write a brief description of the outcome"
      ],
      "metadata": {
        "id": "0PZOwdkB2P_M"
      }
    },
    {
      "cell_type": "markdown",
      "source": [
        "#### Comparison of Results\n",
        "1. Similar Words from Input Embeddings ($W_{in}$):\n",
        "\n",
        "  * The top similar words for the query `patients` were `infection`, `disease`, `study`, and `data`, with a maximum similarity score of 1.0000 for the word itself.\n",
        "  * This outcome indicates that $W_{in}$ effectively captures relationships related to medical terms and research, reflecting its focus on context within input sentences.\n",
        "\n",
        "2. Similar Words from Output Embeddings ($W_{out}$):\n",
        "\n",
        "  * For $W_{out}$, the similar words were `pandemic`,`infection`, `study`, and `may`, with a maximum similarity score of 1.0000 for the word itself.\n",
        "  * The presence of `pandemic` highlights a broader contextual understanding, suggesting that the output embeddings capture not only the immediate context but also extend to related concepts, possibly influenced by the surrounding training data.\n",
        "\n",
        "3. Similar Words from Combined Embeddings ($W_{comb}$):\n",
        "\n",
        "  * The combined embeddings yielded similar words including `pandemic`, `infection`, `study`, and `may`, with the highest similarity score at 1.0000 for the word itself.\n",
        "  * Although the top similar words are the same as those from\n",
        "$W_{out}$, the similarity scores differ slightly, indicating that\n",
        "$W_{comb}$, $W_{in}$ and $W_{out}$, albeit leaning more towards the characteristics of\n",
        "$W_{out}$."
      ],
      "metadata": {
        "id": "MDmWUyikz2Bw"
      }
    },
    {
      "cell_type": "markdown",
      "source": [
        "**Comments**:\n",
        "\n",
        "* The results illustrate that while both $W_{out}$ and $W_{comb}$  provide $W_{in}$,  focuses more on specific medical contexts.\n",
        "* This suggests that the input embeddings capture detailed semantic nuances, whereas the output embeddings, particularly in their combined form, tend to generalize concepts more broadly.\n",
        "* The similarity scores highlight the unique contributions of each embedding type, emphasizing the importance of considering different embedding strategies in natural language processing tasks.\n",
        "* Future training with additional epochs may further enhance the distinctiveness and effectiveness of these embeddings."
      ],
      "metadata": {
        "id": "mrBxpzIQ05rf"
      }
    },
    {
      "cell_type": "markdown",
      "source": [
        "### **Task 5**: A slide related to the complexities of skipgram and CBOW model was shown in the class. Check if they are correct. If not, what are the correct entries?"
      ],
      "metadata": {
        "id": "s9UERj5Z2VEc"
      }
    },
    {
      "cell_type": "markdown",
      "source": [
        "**The Model: Skip-gram with Negative Sampling**  \n",
        "\n",
        "**Skip-gram Model**:\n",
        "\n",
        "* The **Skip-gram** model aims to predict context words given a target word.  \n",
        "* For each target word, several context words (within a window) are used, and negative sampling is employed to predict unrelated words (negative samples).\n",
        "\n",
        "**Negative Sampling**:\n",
        "\n",
        "* The goal of **negative sampling** is to update only a few of the output weights rather than the entire output layer.\n",
        "* Instead of updating the entire vocabulary, it updates a small subset of words.  \n",
        "\n",
        "**Complexity of the Skip-gram Model with Negative Sampling**:\n",
        "\n",
        "From the slide, the complexity is:\n",
        "`O(T · N · C · k)`\n",
        "\n",
        "Where:\n",
        "\n",
        "- **T**: Total number of words in the corpus.  \n",
        "- **N**: Embedding size (here, `embedding_dim = 128`).  \n",
        "- **C**: Context window size (here, `window_size = 2`).  \n",
        "- **k**: Number of negative samples (here, `num_negative_samples = 5`).  "
      ],
      "metadata": {
        "id": "MXxJC1ETVBSk"
      }
    },
    {
      "cell_type": "markdown",
      "source": [
        "The above model follows this complexity because:\n",
        "\n",
        "- The forward pass involves dot products between the target word and context word embeddings (`target_embedding * context_embedding`) for positive pairs.  \n",
        "- Similarly, for negative sampling, I have performed dot products between the target word embedding and negative word embeddings.  \n",
        "- For each word, I am calculating both positive and negative losses, so the number of operations per word is proportional to **C** (number of context words) and **k** (negative samples).\n",
        "\n",
        "Thus, **this model’s complexity is indeed `O(T · N · C · k)`**."
      ],
      "metadata": {
        "id": "9erEoXULVU6F"
      }
    }
  ],
  "metadata": {
    "colab": {
      "provenance": []
    },
    "kernelspec": {
      "display_name": "Python 3",
      "name": "python3"
    },
    "language_info": {
      "name": "python"
    }
  },
  "nbformat": 4,
  "nbformat_minor": 0
}